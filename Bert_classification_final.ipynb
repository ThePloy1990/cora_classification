{
  "nbformat": 4,
  "nbformat_minor": 0,
  "metadata": {
    "colab": {
      "name": "Bert_classification.ipynb",
      "provenance": [],
      "collapsed_sections": [
        "dWkreXBTMFlO"
      ]
    },
    "kernelspec": {
      "name": "python3",
      "display_name": "Python 3"
    },
    "language_info": {
      "name": "python"
    },
    "widgets": {
      "application/vnd.jupyter.widget-state+json": {
        "dbe515693c9c4e6593d7c08fd53b8ce0": {
          "model_module": "@jupyter-widgets/controls",
          "model_name": "HBoxModel",
          "model_module_version": "1.5.0",
          "state": {
            "_dom_classes": [],
            "_model_module": "@jupyter-widgets/controls",
            "_model_module_version": "1.5.0",
            "_model_name": "HBoxModel",
            "_view_count": null,
            "_view_module": "@jupyter-widgets/controls",
            "_view_module_version": "1.5.0",
            "_view_name": "HBoxView",
            "box_style": "",
            "children": [
              "IPY_MODEL_d11db205d5a84da8a6edeff28f303a8d",
              "IPY_MODEL_0640dbf3a0f943e3a7940f84417593a4",
              "IPY_MODEL_a7e259974b6f4615aa1458301577c79c"
            ],
            "layout": "IPY_MODEL_114dbed0b2dc4dc99acbe896a6543b29"
          }
        },
        "d11db205d5a84da8a6edeff28f303a8d": {
          "model_module": "@jupyter-widgets/controls",
          "model_name": "HTMLModel",
          "model_module_version": "1.5.0",
          "state": {
            "_dom_classes": [],
            "_model_module": "@jupyter-widgets/controls",
            "_model_module_version": "1.5.0",
            "_model_name": "HTMLModel",
            "_view_count": null,
            "_view_module": "@jupyter-widgets/controls",
            "_view_module_version": "1.5.0",
            "_view_name": "HTMLView",
            "description": "",
            "description_tooltip": null,
            "layout": "IPY_MODEL_bc138da046564927821df0b031bd5978",
            "placeholder": "​",
            "style": "IPY_MODEL_693dd829b12542ff9a9a547250ddfaa5",
            "value": "Downloading: 100%"
          }
        },
        "0640dbf3a0f943e3a7940f84417593a4": {
          "model_module": "@jupyter-widgets/controls",
          "model_name": "FloatProgressModel",
          "model_module_version": "1.5.0",
          "state": {
            "_dom_classes": [],
            "_model_module": "@jupyter-widgets/controls",
            "_model_module_version": "1.5.0",
            "_model_name": "FloatProgressModel",
            "_view_count": null,
            "_view_module": "@jupyter-widgets/controls",
            "_view_module_version": "1.5.0",
            "_view_name": "ProgressView",
            "bar_style": "success",
            "description": "",
            "description_tooltip": null,
            "layout": "IPY_MODEL_317e2a0be4174906912372e4776196e6",
            "max": 231508,
            "min": 0,
            "orientation": "horizontal",
            "style": "IPY_MODEL_878ae1ba1fca46c08c96633429311c81",
            "value": 231508
          }
        },
        "a7e259974b6f4615aa1458301577c79c": {
          "model_module": "@jupyter-widgets/controls",
          "model_name": "HTMLModel",
          "model_module_version": "1.5.0",
          "state": {
            "_dom_classes": [],
            "_model_module": "@jupyter-widgets/controls",
            "_model_module_version": "1.5.0",
            "_model_name": "HTMLModel",
            "_view_count": null,
            "_view_module": "@jupyter-widgets/controls",
            "_view_module_version": "1.5.0",
            "_view_name": "HTMLView",
            "description": "",
            "description_tooltip": null,
            "layout": "IPY_MODEL_a48712ef559c4cb89725bffc6016774a",
            "placeholder": "​",
            "style": "IPY_MODEL_ae381ccc5d2b40d1b7419bf91405a00c",
            "value": " 226k/226k [00:00&lt;00:00, 301kB/s]"
          }
        },
        "114dbed0b2dc4dc99acbe896a6543b29": {
          "model_module": "@jupyter-widgets/base",
          "model_name": "LayoutModel",
          "model_module_version": "1.2.0",
          "state": {
            "_model_module": "@jupyter-widgets/base",
            "_model_module_version": "1.2.0",
            "_model_name": "LayoutModel",
            "_view_count": null,
            "_view_module": "@jupyter-widgets/base",
            "_view_module_version": "1.2.0",
            "_view_name": "LayoutView",
            "align_content": null,
            "align_items": null,
            "align_self": null,
            "border": null,
            "bottom": null,
            "display": null,
            "flex": null,
            "flex_flow": null,
            "grid_area": null,
            "grid_auto_columns": null,
            "grid_auto_flow": null,
            "grid_auto_rows": null,
            "grid_column": null,
            "grid_gap": null,
            "grid_row": null,
            "grid_template_areas": null,
            "grid_template_columns": null,
            "grid_template_rows": null,
            "height": null,
            "justify_content": null,
            "justify_items": null,
            "left": null,
            "margin": null,
            "max_height": null,
            "max_width": null,
            "min_height": null,
            "min_width": null,
            "object_fit": null,
            "object_position": null,
            "order": null,
            "overflow": null,
            "overflow_x": null,
            "overflow_y": null,
            "padding": null,
            "right": null,
            "top": null,
            "visibility": null,
            "width": null
          }
        },
        "bc138da046564927821df0b031bd5978": {
          "model_module": "@jupyter-widgets/base",
          "model_name": "LayoutModel",
          "model_module_version": "1.2.0",
          "state": {
            "_model_module": "@jupyter-widgets/base",
            "_model_module_version": "1.2.0",
            "_model_name": "LayoutModel",
            "_view_count": null,
            "_view_module": "@jupyter-widgets/base",
            "_view_module_version": "1.2.0",
            "_view_name": "LayoutView",
            "align_content": null,
            "align_items": null,
            "align_self": null,
            "border": null,
            "bottom": null,
            "display": null,
            "flex": null,
            "flex_flow": null,
            "grid_area": null,
            "grid_auto_columns": null,
            "grid_auto_flow": null,
            "grid_auto_rows": null,
            "grid_column": null,
            "grid_gap": null,
            "grid_row": null,
            "grid_template_areas": null,
            "grid_template_columns": null,
            "grid_template_rows": null,
            "height": null,
            "justify_content": null,
            "justify_items": null,
            "left": null,
            "margin": null,
            "max_height": null,
            "max_width": null,
            "min_height": null,
            "min_width": null,
            "object_fit": null,
            "object_position": null,
            "order": null,
            "overflow": null,
            "overflow_x": null,
            "overflow_y": null,
            "padding": null,
            "right": null,
            "top": null,
            "visibility": null,
            "width": null
          }
        },
        "693dd829b12542ff9a9a547250ddfaa5": {
          "model_module": "@jupyter-widgets/controls",
          "model_name": "DescriptionStyleModel",
          "model_module_version": "1.5.0",
          "state": {
            "_model_module": "@jupyter-widgets/controls",
            "_model_module_version": "1.5.0",
            "_model_name": "DescriptionStyleModel",
            "_view_count": null,
            "_view_module": "@jupyter-widgets/base",
            "_view_module_version": "1.2.0",
            "_view_name": "StyleView",
            "description_width": ""
          }
        },
        "317e2a0be4174906912372e4776196e6": {
          "model_module": "@jupyter-widgets/base",
          "model_name": "LayoutModel",
          "model_module_version": "1.2.0",
          "state": {
            "_model_module": "@jupyter-widgets/base",
            "_model_module_version": "1.2.0",
            "_model_name": "LayoutModel",
            "_view_count": null,
            "_view_module": "@jupyter-widgets/base",
            "_view_module_version": "1.2.0",
            "_view_name": "LayoutView",
            "align_content": null,
            "align_items": null,
            "align_self": null,
            "border": null,
            "bottom": null,
            "display": null,
            "flex": null,
            "flex_flow": null,
            "grid_area": null,
            "grid_auto_columns": null,
            "grid_auto_flow": null,
            "grid_auto_rows": null,
            "grid_column": null,
            "grid_gap": null,
            "grid_row": null,
            "grid_template_areas": null,
            "grid_template_columns": null,
            "grid_template_rows": null,
            "height": null,
            "justify_content": null,
            "justify_items": null,
            "left": null,
            "margin": null,
            "max_height": null,
            "max_width": null,
            "min_height": null,
            "min_width": null,
            "object_fit": null,
            "object_position": null,
            "order": null,
            "overflow": null,
            "overflow_x": null,
            "overflow_y": null,
            "padding": null,
            "right": null,
            "top": null,
            "visibility": null,
            "width": null
          }
        },
        "878ae1ba1fca46c08c96633429311c81": {
          "model_module": "@jupyter-widgets/controls",
          "model_name": "ProgressStyleModel",
          "model_module_version": "1.5.0",
          "state": {
            "_model_module": "@jupyter-widgets/controls",
            "_model_module_version": "1.5.0",
            "_model_name": "ProgressStyleModel",
            "_view_count": null,
            "_view_module": "@jupyter-widgets/base",
            "_view_module_version": "1.2.0",
            "_view_name": "StyleView",
            "bar_color": null,
            "description_width": ""
          }
        },
        "a48712ef559c4cb89725bffc6016774a": {
          "model_module": "@jupyter-widgets/base",
          "model_name": "LayoutModel",
          "model_module_version": "1.2.0",
          "state": {
            "_model_module": "@jupyter-widgets/base",
            "_model_module_version": "1.2.0",
            "_model_name": "LayoutModel",
            "_view_count": null,
            "_view_module": "@jupyter-widgets/base",
            "_view_module_version": "1.2.0",
            "_view_name": "LayoutView",
            "align_content": null,
            "align_items": null,
            "align_self": null,
            "border": null,
            "bottom": null,
            "display": null,
            "flex": null,
            "flex_flow": null,
            "grid_area": null,
            "grid_auto_columns": null,
            "grid_auto_flow": null,
            "grid_auto_rows": null,
            "grid_column": null,
            "grid_gap": null,
            "grid_row": null,
            "grid_template_areas": null,
            "grid_template_columns": null,
            "grid_template_rows": null,
            "height": null,
            "justify_content": null,
            "justify_items": null,
            "left": null,
            "margin": null,
            "max_height": null,
            "max_width": null,
            "min_height": null,
            "min_width": null,
            "object_fit": null,
            "object_position": null,
            "order": null,
            "overflow": null,
            "overflow_x": null,
            "overflow_y": null,
            "padding": null,
            "right": null,
            "top": null,
            "visibility": null,
            "width": null
          }
        },
        "ae381ccc5d2b40d1b7419bf91405a00c": {
          "model_module": "@jupyter-widgets/controls",
          "model_name": "DescriptionStyleModel",
          "model_module_version": "1.5.0",
          "state": {
            "_model_module": "@jupyter-widgets/controls",
            "_model_module_version": "1.5.0",
            "_model_name": "DescriptionStyleModel",
            "_view_count": null,
            "_view_module": "@jupyter-widgets/base",
            "_view_module_version": "1.2.0",
            "_view_name": "StyleView",
            "description_width": ""
          }
        },
        "8ed098c5bd7546aaaf4453f3ee133611": {
          "model_module": "@jupyter-widgets/controls",
          "model_name": "HBoxModel",
          "model_module_version": "1.5.0",
          "state": {
            "_dom_classes": [],
            "_model_module": "@jupyter-widgets/controls",
            "_model_module_version": "1.5.0",
            "_model_name": "HBoxModel",
            "_view_count": null,
            "_view_module": "@jupyter-widgets/controls",
            "_view_module_version": "1.5.0",
            "_view_name": "HBoxView",
            "box_style": "",
            "children": [
              "IPY_MODEL_643e93f82f474ce6a30ef638d92c5c08",
              "IPY_MODEL_911ee2bc5d5f49b883cfac37d6e15398",
              "IPY_MODEL_3cc835031bcd4421897ab421e37a2044"
            ],
            "layout": "IPY_MODEL_c4e951112a1c4041924a9da08d7abf31"
          }
        },
        "643e93f82f474ce6a30ef638d92c5c08": {
          "model_module": "@jupyter-widgets/controls",
          "model_name": "HTMLModel",
          "model_module_version": "1.5.0",
          "state": {
            "_dom_classes": [],
            "_model_module": "@jupyter-widgets/controls",
            "_model_module_version": "1.5.0",
            "_model_name": "HTMLModel",
            "_view_count": null,
            "_view_module": "@jupyter-widgets/controls",
            "_view_module_version": "1.5.0",
            "_view_name": "HTMLView",
            "description": "",
            "description_tooltip": null,
            "layout": "IPY_MODEL_55b500fdd522490e97decd666a29e9d2",
            "placeholder": "​",
            "style": "IPY_MODEL_a291200091914dcb9506475f0e06f81d",
            "value": "Downloading: 100%"
          }
        },
        "911ee2bc5d5f49b883cfac37d6e15398": {
          "model_module": "@jupyter-widgets/controls",
          "model_name": "FloatProgressModel",
          "model_module_version": "1.5.0",
          "state": {
            "_dom_classes": [],
            "_model_module": "@jupyter-widgets/controls",
            "_model_module_version": "1.5.0",
            "_model_name": "FloatProgressModel",
            "_view_count": null,
            "_view_module": "@jupyter-widgets/controls",
            "_view_module_version": "1.5.0",
            "_view_name": "ProgressView",
            "bar_style": "success",
            "description": "",
            "description_tooltip": null,
            "layout": "IPY_MODEL_3fa905239ac046a988a89222c487fdcf",
            "max": 28,
            "min": 0,
            "orientation": "horizontal",
            "style": "IPY_MODEL_0a28ccb4fae94781b0912c099ba739d7",
            "value": 28
          }
        },
        "3cc835031bcd4421897ab421e37a2044": {
          "model_module": "@jupyter-widgets/controls",
          "model_name": "HTMLModel",
          "model_module_version": "1.5.0",
          "state": {
            "_dom_classes": [],
            "_model_module": "@jupyter-widgets/controls",
            "_model_module_version": "1.5.0",
            "_model_name": "HTMLModel",
            "_view_count": null,
            "_view_module": "@jupyter-widgets/controls",
            "_view_module_version": "1.5.0",
            "_view_name": "HTMLView",
            "description": "",
            "description_tooltip": null,
            "layout": "IPY_MODEL_77da0bc63fc3414b8b67970839b10978",
            "placeholder": "​",
            "style": "IPY_MODEL_d6fa29ac9feb4899b8200c74bc36a2b2",
            "value": " 28.0/28.0 [00:00&lt;00:00, 226B/s]"
          }
        },
        "c4e951112a1c4041924a9da08d7abf31": {
          "model_module": "@jupyter-widgets/base",
          "model_name": "LayoutModel",
          "model_module_version": "1.2.0",
          "state": {
            "_model_module": "@jupyter-widgets/base",
            "_model_module_version": "1.2.0",
            "_model_name": "LayoutModel",
            "_view_count": null,
            "_view_module": "@jupyter-widgets/base",
            "_view_module_version": "1.2.0",
            "_view_name": "LayoutView",
            "align_content": null,
            "align_items": null,
            "align_self": null,
            "border": null,
            "bottom": null,
            "display": null,
            "flex": null,
            "flex_flow": null,
            "grid_area": null,
            "grid_auto_columns": null,
            "grid_auto_flow": null,
            "grid_auto_rows": null,
            "grid_column": null,
            "grid_gap": null,
            "grid_row": null,
            "grid_template_areas": null,
            "grid_template_columns": null,
            "grid_template_rows": null,
            "height": null,
            "justify_content": null,
            "justify_items": null,
            "left": null,
            "margin": null,
            "max_height": null,
            "max_width": null,
            "min_height": null,
            "min_width": null,
            "object_fit": null,
            "object_position": null,
            "order": null,
            "overflow": null,
            "overflow_x": null,
            "overflow_y": null,
            "padding": null,
            "right": null,
            "top": null,
            "visibility": null,
            "width": null
          }
        },
        "55b500fdd522490e97decd666a29e9d2": {
          "model_module": "@jupyter-widgets/base",
          "model_name": "LayoutModel",
          "model_module_version": "1.2.0",
          "state": {
            "_model_module": "@jupyter-widgets/base",
            "_model_module_version": "1.2.0",
            "_model_name": "LayoutModel",
            "_view_count": null,
            "_view_module": "@jupyter-widgets/base",
            "_view_module_version": "1.2.0",
            "_view_name": "LayoutView",
            "align_content": null,
            "align_items": null,
            "align_self": null,
            "border": null,
            "bottom": null,
            "display": null,
            "flex": null,
            "flex_flow": null,
            "grid_area": null,
            "grid_auto_columns": null,
            "grid_auto_flow": null,
            "grid_auto_rows": null,
            "grid_column": null,
            "grid_gap": null,
            "grid_row": null,
            "grid_template_areas": null,
            "grid_template_columns": null,
            "grid_template_rows": null,
            "height": null,
            "justify_content": null,
            "justify_items": null,
            "left": null,
            "margin": null,
            "max_height": null,
            "max_width": null,
            "min_height": null,
            "min_width": null,
            "object_fit": null,
            "object_position": null,
            "order": null,
            "overflow": null,
            "overflow_x": null,
            "overflow_y": null,
            "padding": null,
            "right": null,
            "top": null,
            "visibility": null,
            "width": null
          }
        },
        "a291200091914dcb9506475f0e06f81d": {
          "model_module": "@jupyter-widgets/controls",
          "model_name": "DescriptionStyleModel",
          "model_module_version": "1.5.0",
          "state": {
            "_model_module": "@jupyter-widgets/controls",
            "_model_module_version": "1.5.0",
            "_model_name": "DescriptionStyleModel",
            "_view_count": null,
            "_view_module": "@jupyter-widgets/base",
            "_view_module_version": "1.2.0",
            "_view_name": "StyleView",
            "description_width": ""
          }
        },
        "3fa905239ac046a988a89222c487fdcf": {
          "model_module": "@jupyter-widgets/base",
          "model_name": "LayoutModel",
          "model_module_version": "1.2.0",
          "state": {
            "_model_module": "@jupyter-widgets/base",
            "_model_module_version": "1.2.0",
            "_model_name": "LayoutModel",
            "_view_count": null,
            "_view_module": "@jupyter-widgets/base",
            "_view_module_version": "1.2.0",
            "_view_name": "LayoutView",
            "align_content": null,
            "align_items": null,
            "align_self": null,
            "border": null,
            "bottom": null,
            "display": null,
            "flex": null,
            "flex_flow": null,
            "grid_area": null,
            "grid_auto_columns": null,
            "grid_auto_flow": null,
            "grid_auto_rows": null,
            "grid_column": null,
            "grid_gap": null,
            "grid_row": null,
            "grid_template_areas": null,
            "grid_template_columns": null,
            "grid_template_rows": null,
            "height": null,
            "justify_content": null,
            "justify_items": null,
            "left": null,
            "margin": null,
            "max_height": null,
            "max_width": null,
            "min_height": null,
            "min_width": null,
            "object_fit": null,
            "object_position": null,
            "order": null,
            "overflow": null,
            "overflow_x": null,
            "overflow_y": null,
            "padding": null,
            "right": null,
            "top": null,
            "visibility": null,
            "width": null
          }
        },
        "0a28ccb4fae94781b0912c099ba739d7": {
          "model_module": "@jupyter-widgets/controls",
          "model_name": "ProgressStyleModel",
          "model_module_version": "1.5.0",
          "state": {
            "_model_module": "@jupyter-widgets/controls",
            "_model_module_version": "1.5.0",
            "_model_name": "ProgressStyleModel",
            "_view_count": null,
            "_view_module": "@jupyter-widgets/base",
            "_view_module_version": "1.2.0",
            "_view_name": "StyleView",
            "bar_color": null,
            "description_width": ""
          }
        },
        "77da0bc63fc3414b8b67970839b10978": {
          "model_module": "@jupyter-widgets/base",
          "model_name": "LayoutModel",
          "model_module_version": "1.2.0",
          "state": {
            "_model_module": "@jupyter-widgets/base",
            "_model_module_version": "1.2.0",
            "_model_name": "LayoutModel",
            "_view_count": null,
            "_view_module": "@jupyter-widgets/base",
            "_view_module_version": "1.2.0",
            "_view_name": "LayoutView",
            "align_content": null,
            "align_items": null,
            "align_self": null,
            "border": null,
            "bottom": null,
            "display": null,
            "flex": null,
            "flex_flow": null,
            "grid_area": null,
            "grid_auto_columns": null,
            "grid_auto_flow": null,
            "grid_auto_rows": null,
            "grid_column": null,
            "grid_gap": null,
            "grid_row": null,
            "grid_template_areas": null,
            "grid_template_columns": null,
            "grid_template_rows": null,
            "height": null,
            "justify_content": null,
            "justify_items": null,
            "left": null,
            "margin": null,
            "max_height": null,
            "max_width": null,
            "min_height": null,
            "min_width": null,
            "object_fit": null,
            "object_position": null,
            "order": null,
            "overflow": null,
            "overflow_x": null,
            "overflow_y": null,
            "padding": null,
            "right": null,
            "top": null,
            "visibility": null,
            "width": null
          }
        },
        "d6fa29ac9feb4899b8200c74bc36a2b2": {
          "model_module": "@jupyter-widgets/controls",
          "model_name": "DescriptionStyleModel",
          "model_module_version": "1.5.0",
          "state": {
            "_model_module": "@jupyter-widgets/controls",
            "_model_module_version": "1.5.0",
            "_model_name": "DescriptionStyleModel",
            "_view_count": null,
            "_view_module": "@jupyter-widgets/base",
            "_view_module_version": "1.2.0",
            "_view_name": "StyleView",
            "description_width": ""
          }
        },
        "07a73f42d59c4804a3cfc45b2de7389b": {
          "model_module": "@jupyter-widgets/controls",
          "model_name": "HBoxModel",
          "model_module_version": "1.5.0",
          "state": {
            "_dom_classes": [],
            "_model_module": "@jupyter-widgets/controls",
            "_model_module_version": "1.5.0",
            "_model_name": "HBoxModel",
            "_view_count": null,
            "_view_module": "@jupyter-widgets/controls",
            "_view_module_version": "1.5.0",
            "_view_name": "HBoxView",
            "box_style": "",
            "children": [
              "IPY_MODEL_db099ce30773425a969a3edaafc80de5",
              "IPY_MODEL_017019869fab41b1bff26ae8e6e2afc9",
              "IPY_MODEL_79488137e66f45d8a64833fc50f3f84c"
            ],
            "layout": "IPY_MODEL_677adfb3948f45458c3ef28d633ee207"
          }
        },
        "db099ce30773425a969a3edaafc80de5": {
          "model_module": "@jupyter-widgets/controls",
          "model_name": "HTMLModel",
          "model_module_version": "1.5.0",
          "state": {
            "_dom_classes": [],
            "_model_module": "@jupyter-widgets/controls",
            "_model_module_version": "1.5.0",
            "_model_name": "HTMLModel",
            "_view_count": null,
            "_view_module": "@jupyter-widgets/controls",
            "_view_module_version": "1.5.0",
            "_view_name": "HTMLView",
            "description": "",
            "description_tooltip": null,
            "layout": "IPY_MODEL_eb7a41c46b1e4694aca38aac97397cf8",
            "placeholder": "​",
            "style": "IPY_MODEL_5bfec091aa554d0f84d03e4a4c47c09f",
            "value": "Downloading: 100%"
          }
        },
        "017019869fab41b1bff26ae8e6e2afc9": {
          "model_module": "@jupyter-widgets/controls",
          "model_name": "FloatProgressModel",
          "model_module_version": "1.5.0",
          "state": {
            "_dom_classes": [],
            "_model_module": "@jupyter-widgets/controls",
            "_model_module_version": "1.5.0",
            "_model_name": "FloatProgressModel",
            "_view_count": null,
            "_view_module": "@jupyter-widgets/controls",
            "_view_module_version": "1.5.0",
            "_view_name": "ProgressView",
            "bar_style": "success",
            "description": "",
            "description_tooltip": null,
            "layout": "IPY_MODEL_655e8f67f5a94390b699bdd6decf7805",
            "max": 570,
            "min": 0,
            "orientation": "horizontal",
            "style": "IPY_MODEL_7b1b322eb6ff4bf89e3f2bcfa310d125",
            "value": 570
          }
        },
        "79488137e66f45d8a64833fc50f3f84c": {
          "model_module": "@jupyter-widgets/controls",
          "model_name": "HTMLModel",
          "model_module_version": "1.5.0",
          "state": {
            "_dom_classes": [],
            "_model_module": "@jupyter-widgets/controls",
            "_model_module_version": "1.5.0",
            "_model_name": "HTMLModel",
            "_view_count": null,
            "_view_module": "@jupyter-widgets/controls",
            "_view_module_version": "1.5.0",
            "_view_name": "HTMLView",
            "description": "",
            "description_tooltip": null,
            "layout": "IPY_MODEL_dfdbf3a6168b41eb85d85a550ea32694",
            "placeholder": "​",
            "style": "IPY_MODEL_5bf7056132fa42d0ba05a3c1eecbee47",
            "value": " 570/570 [00:00&lt;00:00, 19.5kB/s]"
          }
        },
        "677adfb3948f45458c3ef28d633ee207": {
          "model_module": "@jupyter-widgets/base",
          "model_name": "LayoutModel",
          "model_module_version": "1.2.0",
          "state": {
            "_model_module": "@jupyter-widgets/base",
            "_model_module_version": "1.2.0",
            "_model_name": "LayoutModel",
            "_view_count": null,
            "_view_module": "@jupyter-widgets/base",
            "_view_module_version": "1.2.0",
            "_view_name": "LayoutView",
            "align_content": null,
            "align_items": null,
            "align_self": null,
            "border": null,
            "bottom": null,
            "display": null,
            "flex": null,
            "flex_flow": null,
            "grid_area": null,
            "grid_auto_columns": null,
            "grid_auto_flow": null,
            "grid_auto_rows": null,
            "grid_column": null,
            "grid_gap": null,
            "grid_row": null,
            "grid_template_areas": null,
            "grid_template_columns": null,
            "grid_template_rows": null,
            "height": null,
            "justify_content": null,
            "justify_items": null,
            "left": null,
            "margin": null,
            "max_height": null,
            "max_width": null,
            "min_height": null,
            "min_width": null,
            "object_fit": null,
            "object_position": null,
            "order": null,
            "overflow": null,
            "overflow_x": null,
            "overflow_y": null,
            "padding": null,
            "right": null,
            "top": null,
            "visibility": null,
            "width": null
          }
        },
        "eb7a41c46b1e4694aca38aac97397cf8": {
          "model_module": "@jupyter-widgets/base",
          "model_name": "LayoutModel",
          "model_module_version": "1.2.0",
          "state": {
            "_model_module": "@jupyter-widgets/base",
            "_model_module_version": "1.2.0",
            "_model_name": "LayoutModel",
            "_view_count": null,
            "_view_module": "@jupyter-widgets/base",
            "_view_module_version": "1.2.0",
            "_view_name": "LayoutView",
            "align_content": null,
            "align_items": null,
            "align_self": null,
            "border": null,
            "bottom": null,
            "display": null,
            "flex": null,
            "flex_flow": null,
            "grid_area": null,
            "grid_auto_columns": null,
            "grid_auto_flow": null,
            "grid_auto_rows": null,
            "grid_column": null,
            "grid_gap": null,
            "grid_row": null,
            "grid_template_areas": null,
            "grid_template_columns": null,
            "grid_template_rows": null,
            "height": null,
            "justify_content": null,
            "justify_items": null,
            "left": null,
            "margin": null,
            "max_height": null,
            "max_width": null,
            "min_height": null,
            "min_width": null,
            "object_fit": null,
            "object_position": null,
            "order": null,
            "overflow": null,
            "overflow_x": null,
            "overflow_y": null,
            "padding": null,
            "right": null,
            "top": null,
            "visibility": null,
            "width": null
          }
        },
        "5bfec091aa554d0f84d03e4a4c47c09f": {
          "model_module": "@jupyter-widgets/controls",
          "model_name": "DescriptionStyleModel",
          "model_module_version": "1.5.0",
          "state": {
            "_model_module": "@jupyter-widgets/controls",
            "_model_module_version": "1.5.0",
            "_model_name": "DescriptionStyleModel",
            "_view_count": null,
            "_view_module": "@jupyter-widgets/base",
            "_view_module_version": "1.2.0",
            "_view_name": "StyleView",
            "description_width": ""
          }
        },
        "655e8f67f5a94390b699bdd6decf7805": {
          "model_module": "@jupyter-widgets/base",
          "model_name": "LayoutModel",
          "model_module_version": "1.2.0",
          "state": {
            "_model_module": "@jupyter-widgets/base",
            "_model_module_version": "1.2.0",
            "_model_name": "LayoutModel",
            "_view_count": null,
            "_view_module": "@jupyter-widgets/base",
            "_view_module_version": "1.2.0",
            "_view_name": "LayoutView",
            "align_content": null,
            "align_items": null,
            "align_self": null,
            "border": null,
            "bottom": null,
            "display": null,
            "flex": null,
            "flex_flow": null,
            "grid_area": null,
            "grid_auto_columns": null,
            "grid_auto_flow": null,
            "grid_auto_rows": null,
            "grid_column": null,
            "grid_gap": null,
            "grid_row": null,
            "grid_template_areas": null,
            "grid_template_columns": null,
            "grid_template_rows": null,
            "height": null,
            "justify_content": null,
            "justify_items": null,
            "left": null,
            "margin": null,
            "max_height": null,
            "max_width": null,
            "min_height": null,
            "min_width": null,
            "object_fit": null,
            "object_position": null,
            "order": null,
            "overflow": null,
            "overflow_x": null,
            "overflow_y": null,
            "padding": null,
            "right": null,
            "top": null,
            "visibility": null,
            "width": null
          }
        },
        "7b1b322eb6ff4bf89e3f2bcfa310d125": {
          "model_module": "@jupyter-widgets/controls",
          "model_name": "ProgressStyleModel",
          "model_module_version": "1.5.0",
          "state": {
            "_model_module": "@jupyter-widgets/controls",
            "_model_module_version": "1.5.0",
            "_model_name": "ProgressStyleModel",
            "_view_count": null,
            "_view_module": "@jupyter-widgets/base",
            "_view_module_version": "1.2.0",
            "_view_name": "StyleView",
            "bar_color": null,
            "description_width": ""
          }
        },
        "dfdbf3a6168b41eb85d85a550ea32694": {
          "model_module": "@jupyter-widgets/base",
          "model_name": "LayoutModel",
          "model_module_version": "1.2.0",
          "state": {
            "_model_module": "@jupyter-widgets/base",
            "_model_module_version": "1.2.0",
            "_model_name": "LayoutModel",
            "_view_count": null,
            "_view_module": "@jupyter-widgets/base",
            "_view_module_version": "1.2.0",
            "_view_name": "LayoutView",
            "align_content": null,
            "align_items": null,
            "align_self": null,
            "border": null,
            "bottom": null,
            "display": null,
            "flex": null,
            "flex_flow": null,
            "grid_area": null,
            "grid_auto_columns": null,
            "grid_auto_flow": null,
            "grid_auto_rows": null,
            "grid_column": null,
            "grid_gap": null,
            "grid_row": null,
            "grid_template_areas": null,
            "grid_template_columns": null,
            "grid_template_rows": null,
            "height": null,
            "justify_content": null,
            "justify_items": null,
            "left": null,
            "margin": null,
            "max_height": null,
            "max_width": null,
            "min_height": null,
            "min_width": null,
            "object_fit": null,
            "object_position": null,
            "order": null,
            "overflow": null,
            "overflow_x": null,
            "overflow_y": null,
            "padding": null,
            "right": null,
            "top": null,
            "visibility": null,
            "width": null
          }
        },
        "5bf7056132fa42d0ba05a3c1eecbee47": {
          "model_module": "@jupyter-widgets/controls",
          "model_name": "DescriptionStyleModel",
          "model_module_version": "1.5.0",
          "state": {
            "_model_module": "@jupyter-widgets/controls",
            "_model_module_version": "1.5.0",
            "_model_name": "DescriptionStyleModel",
            "_view_count": null,
            "_view_module": "@jupyter-widgets/base",
            "_view_module_version": "1.2.0",
            "_view_name": "StyleView",
            "description_width": ""
          }
        },
        "3c90dd9b1ba04d5c971be53d2496f527": {
          "model_module": "@jupyter-widgets/controls",
          "model_name": "HBoxModel",
          "model_module_version": "1.5.0",
          "state": {
            "_dom_classes": [],
            "_model_module": "@jupyter-widgets/controls",
            "_model_module_version": "1.5.0",
            "_model_name": "HBoxModel",
            "_view_count": null,
            "_view_module": "@jupyter-widgets/controls",
            "_view_module_version": "1.5.0",
            "_view_name": "HBoxView",
            "box_style": "",
            "children": [
              "IPY_MODEL_247626ccb3ae4251be2770963a5d7d76",
              "IPY_MODEL_bf91692ba90144f180b23873194d9d6a",
              "IPY_MODEL_a2b0ec2d50df42379ed0b83d67cb3343"
            ],
            "layout": "IPY_MODEL_a91316a4b3f74c1ba160ea0bf21132ea"
          }
        },
        "247626ccb3ae4251be2770963a5d7d76": {
          "model_module": "@jupyter-widgets/controls",
          "model_name": "HTMLModel",
          "model_module_version": "1.5.0",
          "state": {
            "_dom_classes": [],
            "_model_module": "@jupyter-widgets/controls",
            "_model_module_version": "1.5.0",
            "_model_name": "HTMLModel",
            "_view_count": null,
            "_view_module": "@jupyter-widgets/controls",
            "_view_module_version": "1.5.0",
            "_view_name": "HTMLView",
            "description": "",
            "description_tooltip": null,
            "layout": "IPY_MODEL_901c92feb21d4841b334c686c7eca2b1",
            "placeholder": "​",
            "style": "IPY_MODEL_536b2ca6cc494adbba4226402c1d2bf8",
            "value": "Downloading: 100%"
          }
        },
        "bf91692ba90144f180b23873194d9d6a": {
          "model_module": "@jupyter-widgets/controls",
          "model_name": "FloatProgressModel",
          "model_module_version": "1.5.0",
          "state": {
            "_dom_classes": [],
            "_model_module": "@jupyter-widgets/controls",
            "_model_module_version": "1.5.0",
            "_model_name": "FloatProgressModel",
            "_view_count": null,
            "_view_module": "@jupyter-widgets/controls",
            "_view_module_version": "1.5.0",
            "_view_name": "ProgressView",
            "bar_style": "success",
            "description": "",
            "description_tooltip": null,
            "layout": "IPY_MODEL_33ccbe4ea90d4ba39ef63496cba289e9",
            "max": 536063208,
            "min": 0,
            "orientation": "horizontal",
            "style": "IPY_MODEL_a56bf63a3931444b81ba3a1b0cd0a9ca",
            "value": 536063208
          }
        },
        "a2b0ec2d50df42379ed0b83d67cb3343": {
          "model_module": "@jupyter-widgets/controls",
          "model_name": "HTMLModel",
          "model_module_version": "1.5.0",
          "state": {
            "_dom_classes": [],
            "_model_module": "@jupyter-widgets/controls",
            "_model_module_version": "1.5.0",
            "_model_name": "HTMLModel",
            "_view_count": null,
            "_view_module": "@jupyter-widgets/controls",
            "_view_module_version": "1.5.0",
            "_view_name": "HTMLView",
            "description": "",
            "description_tooltip": null,
            "layout": "IPY_MODEL_2f52e9c47d8145f28e4be07b6b0d4695",
            "placeholder": "​",
            "style": "IPY_MODEL_650d335b891341d9b45ddef2857c5351",
            "value": " 511M/511M [00:19&lt;00:00, 39.4MB/s]"
          }
        },
        "a91316a4b3f74c1ba160ea0bf21132ea": {
          "model_module": "@jupyter-widgets/base",
          "model_name": "LayoutModel",
          "model_module_version": "1.2.0",
          "state": {
            "_model_module": "@jupyter-widgets/base",
            "_model_module_version": "1.2.0",
            "_model_name": "LayoutModel",
            "_view_count": null,
            "_view_module": "@jupyter-widgets/base",
            "_view_module_version": "1.2.0",
            "_view_name": "LayoutView",
            "align_content": null,
            "align_items": null,
            "align_self": null,
            "border": null,
            "bottom": null,
            "display": null,
            "flex": null,
            "flex_flow": null,
            "grid_area": null,
            "grid_auto_columns": null,
            "grid_auto_flow": null,
            "grid_auto_rows": null,
            "grid_column": null,
            "grid_gap": null,
            "grid_row": null,
            "grid_template_areas": null,
            "grid_template_columns": null,
            "grid_template_rows": null,
            "height": null,
            "justify_content": null,
            "justify_items": null,
            "left": null,
            "margin": null,
            "max_height": null,
            "max_width": null,
            "min_height": null,
            "min_width": null,
            "object_fit": null,
            "object_position": null,
            "order": null,
            "overflow": null,
            "overflow_x": null,
            "overflow_y": null,
            "padding": null,
            "right": null,
            "top": null,
            "visibility": null,
            "width": null
          }
        },
        "901c92feb21d4841b334c686c7eca2b1": {
          "model_module": "@jupyter-widgets/base",
          "model_name": "LayoutModel",
          "model_module_version": "1.2.0",
          "state": {
            "_model_module": "@jupyter-widgets/base",
            "_model_module_version": "1.2.0",
            "_model_name": "LayoutModel",
            "_view_count": null,
            "_view_module": "@jupyter-widgets/base",
            "_view_module_version": "1.2.0",
            "_view_name": "LayoutView",
            "align_content": null,
            "align_items": null,
            "align_self": null,
            "border": null,
            "bottom": null,
            "display": null,
            "flex": null,
            "flex_flow": null,
            "grid_area": null,
            "grid_auto_columns": null,
            "grid_auto_flow": null,
            "grid_auto_rows": null,
            "grid_column": null,
            "grid_gap": null,
            "grid_row": null,
            "grid_template_areas": null,
            "grid_template_columns": null,
            "grid_template_rows": null,
            "height": null,
            "justify_content": null,
            "justify_items": null,
            "left": null,
            "margin": null,
            "max_height": null,
            "max_width": null,
            "min_height": null,
            "min_width": null,
            "object_fit": null,
            "object_position": null,
            "order": null,
            "overflow": null,
            "overflow_x": null,
            "overflow_y": null,
            "padding": null,
            "right": null,
            "top": null,
            "visibility": null,
            "width": null
          }
        },
        "536b2ca6cc494adbba4226402c1d2bf8": {
          "model_module": "@jupyter-widgets/controls",
          "model_name": "DescriptionStyleModel",
          "model_module_version": "1.5.0",
          "state": {
            "_model_module": "@jupyter-widgets/controls",
            "_model_module_version": "1.5.0",
            "_model_name": "DescriptionStyleModel",
            "_view_count": null,
            "_view_module": "@jupyter-widgets/base",
            "_view_module_version": "1.2.0",
            "_view_name": "StyleView",
            "description_width": ""
          }
        },
        "33ccbe4ea90d4ba39ef63496cba289e9": {
          "model_module": "@jupyter-widgets/base",
          "model_name": "LayoutModel",
          "model_module_version": "1.2.0",
          "state": {
            "_model_module": "@jupyter-widgets/base",
            "_model_module_version": "1.2.0",
            "_model_name": "LayoutModel",
            "_view_count": null,
            "_view_module": "@jupyter-widgets/base",
            "_view_module_version": "1.2.0",
            "_view_name": "LayoutView",
            "align_content": null,
            "align_items": null,
            "align_self": null,
            "border": null,
            "bottom": null,
            "display": null,
            "flex": null,
            "flex_flow": null,
            "grid_area": null,
            "grid_auto_columns": null,
            "grid_auto_flow": null,
            "grid_auto_rows": null,
            "grid_column": null,
            "grid_gap": null,
            "grid_row": null,
            "grid_template_areas": null,
            "grid_template_columns": null,
            "grid_template_rows": null,
            "height": null,
            "justify_content": null,
            "justify_items": null,
            "left": null,
            "margin": null,
            "max_height": null,
            "max_width": null,
            "min_height": null,
            "min_width": null,
            "object_fit": null,
            "object_position": null,
            "order": null,
            "overflow": null,
            "overflow_x": null,
            "overflow_y": null,
            "padding": null,
            "right": null,
            "top": null,
            "visibility": null,
            "width": null
          }
        },
        "a56bf63a3931444b81ba3a1b0cd0a9ca": {
          "model_module": "@jupyter-widgets/controls",
          "model_name": "ProgressStyleModel",
          "model_module_version": "1.5.0",
          "state": {
            "_model_module": "@jupyter-widgets/controls",
            "_model_module_version": "1.5.0",
            "_model_name": "ProgressStyleModel",
            "_view_count": null,
            "_view_module": "@jupyter-widgets/base",
            "_view_module_version": "1.2.0",
            "_view_name": "StyleView",
            "bar_color": null,
            "description_width": ""
          }
        },
        "2f52e9c47d8145f28e4be07b6b0d4695": {
          "model_module": "@jupyter-widgets/base",
          "model_name": "LayoutModel",
          "model_module_version": "1.2.0",
          "state": {
            "_model_module": "@jupyter-widgets/base",
            "_model_module_version": "1.2.0",
            "_model_name": "LayoutModel",
            "_view_count": null,
            "_view_module": "@jupyter-widgets/base",
            "_view_module_version": "1.2.0",
            "_view_name": "LayoutView",
            "align_content": null,
            "align_items": null,
            "align_self": null,
            "border": null,
            "bottom": null,
            "display": null,
            "flex": null,
            "flex_flow": null,
            "grid_area": null,
            "grid_auto_columns": null,
            "grid_auto_flow": null,
            "grid_auto_rows": null,
            "grid_column": null,
            "grid_gap": null,
            "grid_row": null,
            "grid_template_areas": null,
            "grid_template_columns": null,
            "grid_template_rows": null,
            "height": null,
            "justify_content": null,
            "justify_items": null,
            "left": null,
            "margin": null,
            "max_height": null,
            "max_width": null,
            "min_height": null,
            "min_width": null,
            "object_fit": null,
            "object_position": null,
            "order": null,
            "overflow": null,
            "overflow_x": null,
            "overflow_y": null,
            "padding": null,
            "right": null,
            "top": null,
            "visibility": null,
            "width": null
          }
        },
        "650d335b891341d9b45ddef2857c5351": {
          "model_module": "@jupyter-widgets/controls",
          "model_name": "DescriptionStyleModel",
          "model_module_version": "1.5.0",
          "state": {
            "_model_module": "@jupyter-widgets/controls",
            "_model_module_version": "1.5.0",
            "_model_name": "DescriptionStyleModel",
            "_view_count": null,
            "_view_module": "@jupyter-widgets/base",
            "_view_module_version": "1.2.0",
            "_view_name": "StyleView",
            "description_width": ""
          }
        }
      }
    },
    "accelerator": "GPU"
  },
  "cells": [
    {
      "cell_type": "markdown",
      "source": [
        "# Import"
      ],
      "metadata": {
        "id": "kKCyZ270oQhe"
      }
    },
    {
      "cell_type": "code",
      "execution_count": null,
      "metadata": {
        "id": "59w3IhBsmMYf"
      },
      "outputs": [],
      "source": [
        "!pip install -q -U \"tensorflow-text==2.8.*\"\n",
        "!pip install transformers\n",
        "!pip install tf-models-official"
      ]
    },
    {
      "cell_type": "code",
      "source": [
        "# for data\n",
        "import json\n",
        "import pandas as pd\n",
        "import numpy as np\n",
        "from sklearn import metrics, manifold\n",
        "from sklearn.model_selection import train_test_split\n",
        "from tqdm import tqdm\n",
        "\n",
        "# for w2v\n",
        "import gensim\n",
        "import gensim.downloader as gensim_api\n",
        "\n",
        "# for processing\n",
        "import re\n",
        "import nltk\n",
        "\n",
        "# for plotting\n",
        "import matplotlib.pyplot as plt\n",
        "import seaborn as sns\n",
        "\n",
        "# for BERT\n",
        "import transformers\n",
        "import os\n",
        "import torch\n",
        "# from torch.utils.data import Dataset\n",
        "# from torchvision import datasets\n",
        "import tensorflow as tf\n",
        "import tensorflow_hub as hub\n",
        "import tensorflow_text as text\n",
        "from torchvision.transforms import ToTensor"
      ],
      "metadata": {
        "id": "mM0WgLZXLEDC"
      },
      "execution_count": 6,
      "outputs": []
    },
    {
      "cell_type": "code",
      "source": [
        "nltk.download('wordnet')"
      ],
      "metadata": {
        "id": "wfHHdNdvd1vC",
        "colab": {
          "base_uri": "https://localhost:8080/"
        },
        "outputId": "7e1cd1f5-99d8-41c4-8f79-7c32fc968a0c"
      },
      "execution_count": 7,
      "outputs": [
        {
          "output_type": "stream",
          "name": "stdout",
          "text": [
            "[nltk_data] Downloading package wordnet to /root/nltk_data...\n",
            "[nltk_data]   Unzipping corpora/wordnet.zip.\n"
          ]
        },
        {
          "output_type": "execute_result",
          "data": {
            "text/plain": [
              "True"
            ]
          },
          "metadata": {},
          "execution_count": 7
        }
      ]
    },
    {
      "cell_type": "code",
      "source": [
        "# !python -c \"import torch; print(torch.__version__)\"\n",
        "# !python -c \"import torch; print(torch.version.cuda)\""
      ],
      "metadata": {
        "id": "YWgrio9JK9qn"
      },
      "execution_count": 8,
      "outputs": []
    },
    {
      "cell_type": "code",
      "source": [
        "# !pip install torch-scatter -f https://data.pyg.org/whl/torch-1.11.0+cu113.html\n",
        "# !pip install torch-sparse -f https://data.pyg.org/whl/torch-1.11.0+cu113.html\n",
        "# !pip install torch-geometric"
      ],
      "metadata": {
        "id": "YezT9_WiLB-9"
      },
      "execution_count": 9,
      "outputs": []
    },
    {
      "cell_type": "markdown",
      "source": [
        "# Data obrabotka"
      ],
      "metadata": {
        "id": "2jK-JYisoZUg"
      }
    },
    {
      "cell_type": "code",
      "source": [
        "from google.colab import drive\n",
        "drive.mount('/content/gdrive')"
      ],
      "metadata": {
        "colab": {
          "base_uri": "https://localhost:8080/"
        },
        "id": "FgXpNsG5fnuz",
        "outputId": "0d1c5491-8cbd-4394-fb00-cd874d0b78aa"
      },
      "execution_count": 17,
      "outputs": [
        {
          "output_type": "stream",
          "name": "stdout",
          "text": [
            "Drive already mounted at /content/gdrive; to attempt to forcibly remount, call drive.mount(\"/content/gdrive\", force_remount=True).\n"
          ]
        }
      ]
    },
    {
      "cell_type": "code",
      "source": [
        "!cp /content/gdrive/MyDrive/Cora_data/cora_new.csv /content\n",
        "!cp /content/gdrive/MyDrive/Cora_data/df_lst_mean_vecs.csv /content\n",
        "!cp /content/gdrive/MyDrive/Cora_data/classifications.csv /content"
      ],
      "metadata": {
        "id": "Y2Y7kwCrfq_T"
      },
      "execution_count": 18,
      "outputs": []
    },
    {
      "cell_type": "code",
      "source": [
        "df = pd.read_csv('cora_new.csv')"
      ],
      "metadata": {
        "id": "Z-JxEnUGLN1T"
      },
      "execution_count": 19,
      "outputs": []
    },
    {
      "cell_type": "code",
      "source": [
        "# I've taken this function from guthub: \n",
        "# https://github.com/LaurentVeyssier/Unsupervised-text-classification-with-BERT-embeddings/blob/main/unsupervised_text_classification_with_BERT\n",
        "\n",
        "def preprocess_text(text, flg_stemm=False, flg_lemm=True, lst_stopwords=None):\n",
        "  \n",
        "    # clean (convert to lowercase and remove punctuations and characters and then strip)\n",
        "    text = re.sub(r'[^\\w\\s]', '', str(text).lower().strip())\n",
        "            \n",
        "    # Tokenize (convert from string to list)\n",
        "    lst_text = text.split()\n",
        "    \n",
        "    # remove Stopwords\n",
        "    if lst_stopwords is not None:\n",
        "        lst_text = [word for word in lst_text if word not in lst_stopwords]\n",
        "                \n",
        "    # Stemming (remove -ing, -ly, ...)\n",
        "    if flg_stemm == True:\n",
        "        ps = nltk.stem.porter.PorterStemmer()\n",
        "        lst_text = [ps.stem(word) for word in lst_text]\n",
        "                \n",
        "    # Lemmatisation (convert the word into root word)\n",
        "    if flg_lemm == True:\n",
        "        lem = nltk.stem.wordnet.WordNetLemmatizer()\n",
        "        lst_text = [lem.lemmatize(word) for word in lst_text]\n",
        "            \n",
        "    # back to string from list\n",
        "    return text"
      ],
      "metadata": {
        "id": "xbp17TkwcTfq"
      },
      "execution_count": 20,
      "outputs": []
    },
    {
      "cell_type": "code",
      "source": [
        "df.fillna('')"
      ],
      "metadata": {
        "colab": {
          "base_uri": "https://localhost:8080/",
          "height": 424
        },
        "id": "eXrwz5eE7JF7",
        "outputId": "330d16d8-4667-48d8-a4cd-9c167d1374ac"
      },
      "execution_count": 21,
      "outputs": [
        {
          "output_type": "execute_result",
          "data": {
            "text/plain": [
              "                                                   Title  \\\n",
              "0               Spherical Wavelets: Texture Processing     \n",
              "1      Running dynamic programming algorithms on a DN...   \n",
              "2      Chapter 5 Multivalue or Multistep Methods 5.1 ...   \n",
              "3      How to Create and Animate a Dancing Dinosaur w...   \n",
              "4                              Growing neural networks     \n",
              "...                                                  ...   \n",
              "52834  AN ANALYTICAL DELAY MODEL FOR RLC INTERCONNECTS     \n",
              "52835  Adaptive Rate-Controlled Scheduling for Multim...   \n",
              "52836                Reasoning about Continuous Change     \n",
              "52837  Conjunctive Query Equivalence of Keyed Relatio...   \n",
              "52838  GLOBAL SMOOTHING AND CONTINUATION FOR LARGE-SC...   \n",
              "\n",
              "                                                Abstract  \n",
              "0      Wavelets are a powerful tool for planar image ...  \n",
              "1      In this paper we show that DNA computers are e...  \n",
              "2      One-step methods only require information abou...  \n",
              "3      In this short paper we present a case study of...  \n",
              "4                                                         \n",
              "...                                                  ...  \n",
              "52834  We develop an analytical delay model based on ...  \n",
              "52835  We present a framework for integrated scheduli...  \n",
              "52836  The problem of formalising continuous change w...  \n",
              "52837  An abbreviated version of this paper is to app...  \n",
              "52838                                                     \n",
              "\n",
              "[52839 rows x 2 columns]"
            ],
            "text/html": [
              "\n",
              "  <div id=\"df-78c1558d-91c6-4654-8e3d-98658b1d4d71\">\n",
              "    <div class=\"colab-df-container\">\n",
              "      <div>\n",
              "<style scoped>\n",
              "    .dataframe tbody tr th:only-of-type {\n",
              "        vertical-align: middle;\n",
              "    }\n",
              "\n",
              "    .dataframe tbody tr th {\n",
              "        vertical-align: top;\n",
              "    }\n",
              "\n",
              "    .dataframe thead th {\n",
              "        text-align: right;\n",
              "    }\n",
              "</style>\n",
              "<table border=\"1\" class=\"dataframe\">\n",
              "  <thead>\n",
              "    <tr style=\"text-align: right;\">\n",
              "      <th></th>\n",
              "      <th>Title</th>\n",
              "      <th>Abstract</th>\n",
              "    </tr>\n",
              "  </thead>\n",
              "  <tbody>\n",
              "    <tr>\n",
              "      <th>0</th>\n",
              "      <td>Spherical Wavelets: Texture Processing</td>\n",
              "      <td>Wavelets are a powerful tool for planar image ...</td>\n",
              "    </tr>\n",
              "    <tr>\n",
              "      <th>1</th>\n",
              "      <td>Running dynamic programming algorithms on a DN...</td>\n",
              "      <td>In this paper we show that DNA computers are e...</td>\n",
              "    </tr>\n",
              "    <tr>\n",
              "      <th>2</th>\n",
              "      <td>Chapter 5 Multivalue or Multistep Methods 5.1 ...</td>\n",
              "      <td>One-step methods only require information abou...</td>\n",
              "    </tr>\n",
              "    <tr>\n",
              "      <th>3</th>\n",
              "      <td>How to Create and Animate a Dancing Dinosaur w...</td>\n",
              "      <td>In this short paper we present a case study of...</td>\n",
              "    </tr>\n",
              "    <tr>\n",
              "      <th>4</th>\n",
              "      <td>Growing neural networks</td>\n",
              "      <td></td>\n",
              "    </tr>\n",
              "    <tr>\n",
              "      <th>...</th>\n",
              "      <td>...</td>\n",
              "      <td>...</td>\n",
              "    </tr>\n",
              "    <tr>\n",
              "      <th>52834</th>\n",
              "      <td>AN ANALYTICAL DELAY MODEL FOR RLC INTERCONNECTS</td>\n",
              "      <td>We develop an analytical delay model based on ...</td>\n",
              "    </tr>\n",
              "    <tr>\n",
              "      <th>52835</th>\n",
              "      <td>Adaptive Rate-Controlled Scheduling for Multim...</td>\n",
              "      <td>We present a framework for integrated scheduli...</td>\n",
              "    </tr>\n",
              "    <tr>\n",
              "      <th>52836</th>\n",
              "      <td>Reasoning about Continuous Change</td>\n",
              "      <td>The problem of formalising continuous change w...</td>\n",
              "    </tr>\n",
              "    <tr>\n",
              "      <th>52837</th>\n",
              "      <td>Conjunctive Query Equivalence of Keyed Relatio...</td>\n",
              "      <td>An abbreviated version of this paper is to app...</td>\n",
              "    </tr>\n",
              "    <tr>\n",
              "      <th>52838</th>\n",
              "      <td>GLOBAL SMOOTHING AND CONTINUATION FOR LARGE-SC...</td>\n",
              "      <td></td>\n",
              "    </tr>\n",
              "  </tbody>\n",
              "</table>\n",
              "<p>52839 rows × 2 columns</p>\n",
              "</div>\n",
              "      <button class=\"colab-df-convert\" onclick=\"convertToInteractive('df-78c1558d-91c6-4654-8e3d-98658b1d4d71')\"\n",
              "              title=\"Convert this dataframe to an interactive table.\"\n",
              "              style=\"display:none;\">\n",
              "        \n",
              "  <svg xmlns=\"http://www.w3.org/2000/svg\" height=\"24px\"viewBox=\"0 0 24 24\"\n",
              "       width=\"24px\">\n",
              "    <path d=\"M0 0h24v24H0V0z\" fill=\"none\"/>\n",
              "    <path d=\"M18.56 5.44l.94 2.06.94-2.06 2.06-.94-2.06-.94-.94-2.06-.94 2.06-2.06.94zm-11 1L8.5 8.5l.94-2.06 2.06-.94-2.06-.94L8.5 2.5l-.94 2.06-2.06.94zm10 10l.94 2.06.94-2.06 2.06-.94-2.06-.94-.94-2.06-.94 2.06-2.06.94z\"/><path d=\"M17.41 7.96l-1.37-1.37c-.4-.4-.92-.59-1.43-.59-.52 0-1.04.2-1.43.59L10.3 9.45l-7.72 7.72c-.78.78-.78 2.05 0 2.83L4 21.41c.39.39.9.59 1.41.59.51 0 1.02-.2 1.41-.59l7.78-7.78 2.81-2.81c.8-.78.8-2.07 0-2.86zM5.41 20L4 18.59l7.72-7.72 1.47 1.35L5.41 20z\"/>\n",
              "  </svg>\n",
              "      </button>\n",
              "      \n",
              "  <style>\n",
              "    .colab-df-container {\n",
              "      display:flex;\n",
              "      flex-wrap:wrap;\n",
              "      gap: 12px;\n",
              "    }\n",
              "\n",
              "    .colab-df-convert {\n",
              "      background-color: #E8F0FE;\n",
              "      border: none;\n",
              "      border-radius: 50%;\n",
              "      cursor: pointer;\n",
              "      display: none;\n",
              "      fill: #1967D2;\n",
              "      height: 32px;\n",
              "      padding: 0 0 0 0;\n",
              "      width: 32px;\n",
              "    }\n",
              "\n",
              "    .colab-df-convert:hover {\n",
              "      background-color: #E2EBFA;\n",
              "      box-shadow: 0px 1px 2px rgba(60, 64, 67, 0.3), 0px 1px 3px 1px rgba(60, 64, 67, 0.15);\n",
              "      fill: #174EA6;\n",
              "    }\n",
              "\n",
              "    [theme=dark] .colab-df-convert {\n",
              "      background-color: #3B4455;\n",
              "      fill: #D2E3FC;\n",
              "    }\n",
              "\n",
              "    [theme=dark] .colab-df-convert:hover {\n",
              "      background-color: #434B5C;\n",
              "      box-shadow: 0px 1px 3px 1px rgba(0, 0, 0, 0.15);\n",
              "      filter: drop-shadow(0px 1px 2px rgba(0, 0, 0, 0.3));\n",
              "      fill: #FFFFFF;\n",
              "    }\n",
              "  </style>\n",
              "\n",
              "      <script>\n",
              "        const buttonEl =\n",
              "          document.querySelector('#df-78c1558d-91c6-4654-8e3d-98658b1d4d71 button.colab-df-convert');\n",
              "        buttonEl.style.display =\n",
              "          google.colab.kernel.accessAllowed ? 'block' : 'none';\n",
              "\n",
              "        async function convertToInteractive(key) {\n",
              "          const element = document.querySelector('#df-78c1558d-91c6-4654-8e3d-98658b1d4d71');\n",
              "          const dataTable =\n",
              "            await google.colab.kernel.invokeFunction('convertToInteractive',\n",
              "                                                     [key], {});\n",
              "          if (!dataTable) return;\n",
              "\n",
              "          const docLinkHtml = 'Like what you see? Visit the ' +\n",
              "            '<a target=\"_blank\" href=https://colab.research.google.com/notebooks/data_table.ipynb>data table notebook</a>'\n",
              "            + ' to learn more about interactive tables.';\n",
              "          element.innerHTML = '';\n",
              "          dataTable['output_type'] = 'display_data';\n",
              "          await google.colab.output.renderOutput(dataTable, element);\n",
              "          const docLink = document.createElement('div');\n",
              "          docLink.innerHTML = docLinkHtml;\n",
              "          element.appendChild(docLink);\n",
              "        }\n",
              "      </script>\n",
              "    </div>\n",
              "  </div>\n",
              "  "
            ]
          },
          "metadata": {},
          "execution_count": 21
        }
      ]
    },
    {
      "cell_type": "code",
      "source": [
        "df['Title_clean'] = df['Title'].apply(lambda x: preprocess_text(x, flg_stemm=False, flg_lemm=True))\n",
        "df['Abstract_clean'] = df['Abstract'].apply(lambda x: preprocess_text(x, flg_stemm=False, flg_lemm=True))\n",
        "df = df.drop(['Title', 'Abstract'], axis=1)\n",
        "df.head(3)"
      ],
      "metadata": {
        "colab": {
          "base_uri": "https://localhost:8080/",
          "height": 143
        },
        "id": "ZRhLOjdBfMPR",
        "outputId": "ff866fab-bb70-44ae-c708-f4911dfaaed6"
      },
      "execution_count": 22,
      "outputs": [
        {
          "output_type": "execute_result",
          "data": {
            "text/plain": [
              "                                         Title_clean  \\\n",
              "0              spherical wavelets texture processing   \n",
              "1  running dynamic programming algorithms on a dn...   \n",
              "2  chapter 5 multivalue or multistep methods 51 i...   \n",
              "\n",
              "                                      Abstract_clean  \n",
              "0  wavelets are a powerful tool for planar image ...  \n",
              "1  in this paper we show that dna computers are e...  \n",
              "2  onestep methods only require information about...  "
            ],
            "text/html": [
              "\n",
              "  <div id=\"df-29e38733-b406-4749-a63a-54cc836262da\">\n",
              "    <div class=\"colab-df-container\">\n",
              "      <div>\n",
              "<style scoped>\n",
              "    .dataframe tbody tr th:only-of-type {\n",
              "        vertical-align: middle;\n",
              "    }\n",
              "\n",
              "    .dataframe tbody tr th {\n",
              "        vertical-align: top;\n",
              "    }\n",
              "\n",
              "    .dataframe thead th {\n",
              "        text-align: right;\n",
              "    }\n",
              "</style>\n",
              "<table border=\"1\" class=\"dataframe\">\n",
              "  <thead>\n",
              "    <tr style=\"text-align: right;\">\n",
              "      <th></th>\n",
              "      <th>Title_clean</th>\n",
              "      <th>Abstract_clean</th>\n",
              "    </tr>\n",
              "  </thead>\n",
              "  <tbody>\n",
              "    <tr>\n",
              "      <th>0</th>\n",
              "      <td>spherical wavelets texture processing</td>\n",
              "      <td>wavelets are a powerful tool for planar image ...</td>\n",
              "    </tr>\n",
              "    <tr>\n",
              "      <th>1</th>\n",
              "      <td>running dynamic programming algorithms on a dn...</td>\n",
              "      <td>in this paper we show that dna computers are e...</td>\n",
              "    </tr>\n",
              "    <tr>\n",
              "      <th>2</th>\n",
              "      <td>chapter 5 multivalue or multistep methods 51 i...</td>\n",
              "      <td>onestep methods only require information about...</td>\n",
              "    </tr>\n",
              "  </tbody>\n",
              "</table>\n",
              "</div>\n",
              "      <button class=\"colab-df-convert\" onclick=\"convertToInteractive('df-29e38733-b406-4749-a63a-54cc836262da')\"\n",
              "              title=\"Convert this dataframe to an interactive table.\"\n",
              "              style=\"display:none;\">\n",
              "        \n",
              "  <svg xmlns=\"http://www.w3.org/2000/svg\" height=\"24px\"viewBox=\"0 0 24 24\"\n",
              "       width=\"24px\">\n",
              "    <path d=\"M0 0h24v24H0V0z\" fill=\"none\"/>\n",
              "    <path d=\"M18.56 5.44l.94 2.06.94-2.06 2.06-.94-2.06-.94-.94-2.06-.94 2.06-2.06.94zm-11 1L8.5 8.5l.94-2.06 2.06-.94-2.06-.94L8.5 2.5l-.94 2.06-2.06.94zm10 10l.94 2.06.94-2.06 2.06-.94-2.06-.94-.94-2.06-.94 2.06-2.06.94z\"/><path d=\"M17.41 7.96l-1.37-1.37c-.4-.4-.92-.59-1.43-.59-.52 0-1.04.2-1.43.59L10.3 9.45l-7.72 7.72c-.78.78-.78 2.05 0 2.83L4 21.41c.39.39.9.59 1.41.59.51 0 1.02-.2 1.41-.59l7.78-7.78 2.81-2.81c.8-.78.8-2.07 0-2.86zM5.41 20L4 18.59l7.72-7.72 1.47 1.35L5.41 20z\"/>\n",
              "  </svg>\n",
              "      </button>\n",
              "      \n",
              "  <style>\n",
              "    .colab-df-container {\n",
              "      display:flex;\n",
              "      flex-wrap:wrap;\n",
              "      gap: 12px;\n",
              "    }\n",
              "\n",
              "    .colab-df-convert {\n",
              "      background-color: #E8F0FE;\n",
              "      border: none;\n",
              "      border-radius: 50%;\n",
              "      cursor: pointer;\n",
              "      display: none;\n",
              "      fill: #1967D2;\n",
              "      height: 32px;\n",
              "      padding: 0 0 0 0;\n",
              "      width: 32px;\n",
              "    }\n",
              "\n",
              "    .colab-df-convert:hover {\n",
              "      background-color: #E2EBFA;\n",
              "      box-shadow: 0px 1px 2px rgba(60, 64, 67, 0.3), 0px 1px 3px 1px rgba(60, 64, 67, 0.15);\n",
              "      fill: #174EA6;\n",
              "    }\n",
              "\n",
              "    [theme=dark] .colab-df-convert {\n",
              "      background-color: #3B4455;\n",
              "      fill: #D2E3FC;\n",
              "    }\n",
              "\n",
              "    [theme=dark] .colab-df-convert:hover {\n",
              "      background-color: #434B5C;\n",
              "      box-shadow: 0px 1px 3px 1px rgba(0, 0, 0, 0.15);\n",
              "      filter: drop-shadow(0px 1px 2px rgba(0, 0, 0, 0.3));\n",
              "      fill: #FFFFFF;\n",
              "    }\n",
              "  </style>\n",
              "\n",
              "      <script>\n",
              "        const buttonEl =\n",
              "          document.querySelector('#df-29e38733-b406-4749-a63a-54cc836262da button.colab-df-convert');\n",
              "        buttonEl.style.display =\n",
              "          google.colab.kernel.accessAllowed ? 'block' : 'none';\n",
              "\n",
              "        async function convertToInteractive(key) {\n",
              "          const element = document.querySelector('#df-29e38733-b406-4749-a63a-54cc836262da');\n",
              "          const dataTable =\n",
              "            await google.colab.kernel.invokeFunction('convertToInteractive',\n",
              "                                                     [key], {});\n",
              "          if (!dataTable) return;\n",
              "\n",
              "          const docLinkHtml = 'Like what you see? Visit the ' +\n",
              "            '<a target=\"_blank\" href=https://colab.research.google.com/notebooks/data_table.ipynb>data table notebook</a>'\n",
              "            + ' to learn more about interactive tables.';\n",
              "          element.innerHTML = '';\n",
              "          dataTable['output_type'] = 'display_data';\n",
              "          await google.colab.output.renderOutput(dataTable, element);\n",
              "          const docLink = document.createElement('div');\n",
              "          docLink.innerHTML = docLinkHtml;\n",
              "          element.appendChild(docLink);\n",
              "        }\n",
              "      </script>\n",
              "    </div>\n",
              "  </div>\n",
              "  "
            ]
          },
          "metadata": {},
          "execution_count": 22
        }
      ]
    },
    {
      "cell_type": "code",
      "source": [
        "def get_similar_words(lst_words, top, nlp):\n",
        "    lst_out = lst_words\n",
        "    for tupla in nlp.most_similar(lst_words, topn=top):\n",
        "        lst_out.append(tupla[0])\n",
        "    return list(set(lst_out))"
      ],
      "metadata": {
        "id": "1c0Ud7fzhkJL"
      },
      "execution_count": 23,
      "outputs": []
    },
    {
      "cell_type": "code",
      "source": [
        "# Remove end spaces\n",
        "def remove_end_spaces(string):\n",
        "    return \"\".join(string.rstrip())\n",
        "\n",
        "# Remove first and  end spaces\n",
        "def remove_first_end_spaces(string):\n",
        "    return \"\".join(string.rstrip().lstrip())"
      ],
      "metadata": {
        "id": "klC_oQRVTP5W"
      },
      "execution_count": 24,
      "outputs": []
    },
    {
      "cell_type": "code",
      "source": [
        "df1 = pd.read_csv('/content/classifications.csv', sep = '\\s+', on_bad_lines='skip')\n",
        "df2 = df1['/Information_Retrieval/Retrieval/']\n",
        "list_classes = []\n",
        "for row in df2:\n",
        "  list_classes.append(row)\n",
        "list_classes = list(set(list_classes))\n",
        "\n",
        "list_words = set()\n",
        "for i in range(len(list_classes)):\n",
        "  list_classes[i] = list_classes[i].replace('/', ' ')\n",
        "  list_classes[i] = list_classes[i].replace('__', ' ')\n",
        "  list_classes[i] = list_classes[i].replace('_', ' ')\n",
        "  remove_end_spaces(list_classes[i])\n",
        "  remove_first_end_spaces(list_classes[i])\n",
        "\n",
        "set(list_classes)\n",
        "for sub_l in list_classes:\n",
        "    list_words.update(sub_l.split())\n",
        "\n",
        "set(list_classes)"
      ],
      "metadata": {
        "colab": {
          "base_uri": "https://localhost:8080/"
        },
        "id": "HG_1tzaK-7jc",
        "outputId": "4082e2c9-52c7-4c94-bdeb-96019cde6b75"
      },
      "execution_count": 25,
      "outputs": [
        {
          "output_type": "execute_result",
          "data": {
            "text/plain": [
              "{' Artificial Intelligence Agents ',\n",
              " ' Artificial Intelligence Data Mining ',\n",
              " ' Artificial Intelligence Expert Systems ',\n",
              " ' Artificial Intelligence Games and Search ',\n",
              " ' Artificial Intelligence Knowledge Representation ',\n",
              " ' Artificial Intelligence Machine Learning Case-Based ',\n",
              " ' Artificial Intelligence Machine Learning Genetic Algorithms ',\n",
              " ' Artificial Intelligence Machine Learning Neural Networks ',\n",
              " ' Artificial Intelligence Machine Learning Probabilistic Methods ',\n",
              " ' Artificial Intelligence Machine Learning Reinforcement Learning ',\n",
              " ' Artificial Intelligence Machine Learning Rule Learning ',\n",
              " ' Artificial Intelligence Machine Learning Theory ',\n",
              " ' Artificial Intelligence NLP ',\n",
              " ' Artificial Intelligence Planning ',\n",
              " ' Artificial Intelligence Robotics ',\n",
              " ' Artificial Intelligence Speech ',\n",
              " ' Artificial Intelligence Theorem Proving ',\n",
              " ' Artificial Intelligence Vision and Pattern Recognition ',\n",
              " ' Data Structures Algorithms and Theory Computational Complexity ',\n",
              " ' Data Structures Algorithms and Theory Computational Geometry ',\n",
              " ' Data Structures Algorithms and Theory Formal Languages ',\n",
              " ' Data Structures Algorithms and Theory Hashing ',\n",
              " ' Data Structures Algorithms and Theory Logic ',\n",
              " ' Data Structures Algorithms and Theory Parallel ',\n",
              " ' Data Structures Algorithms and Theory Quantum Computing ',\n",
              " ' Data Structures Algorithms and Theory Randomized ',\n",
              " ' Data Structures Algorithms and Theory Sorting ',\n",
              " ' Databases Concurrency ',\n",
              " ' Databases Deductive ',\n",
              " ' Databases Object Oriented ',\n",
              " ' Databases Performance ',\n",
              " ' Databases Query Evaluation ',\n",
              " ' Databases Relational ',\n",
              " ' Databases Temporal ',\n",
              " ' Encryption and Compression Compression ',\n",
              " ' Encryption and Compression Encryption ',\n",
              " ' Encryption and Compression Security ',\n",
              " ' Hardware and Architecture Distributed Architectures ',\n",
              " ' Hardware and Architecture High Performance Computing ',\n",
              " ' Hardware and Architecture Input Output and Storage ',\n",
              " ' Hardware and Architecture Logic Design ',\n",
              " ' Hardware and Architecture Memory Structures ',\n",
              " ' Hardware and Architecture Microprogramming ',\n",
              " ' Hardware and Architecture VLSI ',\n",
              " ' Human Computer Interaction Cooperative ',\n",
              " ' Human Computer Interaction Graphics and Virtual Reality ',\n",
              " ' Human Computer Interaction Interface Design ',\n",
              " ' Human Computer Interaction Multimedia ',\n",
              " ' Human Computer Interaction Wearable Computers ',\n",
              " ' Information Retrieval Digital Library ',\n",
              " ' Information Retrieval Extraction ',\n",
              " ' Information Retrieval Filtering ',\n",
              " ' Information Retrieval Retrieval ',\n",
              " ' Networking Internet ',\n",
              " ' Networking Protocols ',\n",
              " ' Networking Routing ',\n",
              " ' Networking Wireless ',\n",
              " ' Operating Systems Distributed ',\n",
              " ' Operating Systems Fault Tolerance ',\n",
              " ' Operating Systems Memory Management ',\n",
              " ' Operating Systems Realtime ',\n",
              " ' Programming Compiler Design ',\n",
              " ' Programming Debugging ',\n",
              " ' Programming Functional ',\n",
              " ' Programming Garbage Collection ',\n",
              " ' Programming Java ',\n",
              " ' Programming Logic ',\n",
              " ' Programming Object Oriented ',\n",
              " ' Programming Semantics ',\n",
              " ' Programming Software Development '}"
            ]
          },
          "metadata": {},
          "execution_count": 25
        }
      ]
    },
    {
      "cell_type": "code",
      "source": [
        "df1 = df1.replace(['/Information_Retrieval/Digital_Library/',\n",
        " '/Information_Retrieval/Extraction/',\n",
        " '/Information_Retrieval/Filtering/',\n",
        " '/Information_Retrieval/Retrieval/'], 'information retrieval') \n",
        "df1 = df1.replace(['/Artificial_Intelligence/Agents/','/Artificial_Intelligence/Data_Mining/','/Artificial_Intelligence/Expert_Systems/','/Artificial_Intelligence/Games_and_Search/','/Artificial_Intelligence/Knowledge_Representation/',\n",
        "                   '/Artificial_Intelligence/Machine_Learning/Case-Based/','/Artificial_Intelligence/Machine_Learning/Genetic_Algorithms/','/Artificial_Intelligence/Machine_Learning/Neural_Networks/','/Artificial_Intelligence/Machine_Learning/Probabilistic_Methods/',\n",
        "                   '/Artificial_Intelligence/Machine_Learning/Reinforcement_Learning/','/Artificial_Intelligence/Machine_Learning/Rule_Learning/','/Artificial_Intelligence/Machine_Learning/Theory/','/Artificial_Intelligence/NLP/','/Artificial_Intelligence/Planning/',\n",
        "                   '/Artificial_Intelligence/Robotics/','/Artificial_Intelligence/Speech/','/Artificial_Intelligence/Theorem_Proving/','/Artificial_Intelligence/Vision_and_Pattern_Recognition/'], 'Artificial Intelligence') \n",
        "df1 = df1.replace(['/Data_Structures__Algorithms_and_Theory/Computational_Complexity/','/Data_Structures__Algorithms_and_Theory/Computational_Geometry/','/Data_Structures__Algorithms_and_Theory/Formal_Languages/','/Data_Structures__Algorithms_and_Theory/Hashing/',\n",
        "                   '/Data_Structures__Algorithms_and_Theory/Logic/','/Data_Structures__Algorithms_and_Theory/Parallel/','/Data_Structures__Algorithms_and_Theory/Quantum_Computing/','/Data_Structures__Algorithms_and_Theory/Randomized/',\n",
        "                   '/Data_Structures__Algorithms_and_Theory/Sorting/'], 'data structures algorithms and theory') \n",
        "df1 = df1.replace(['/Databases/Concurrency/','/Databases/Deductive/','/Databases/Object_Oriented/','/Databases/Performance/','/Databases/Query_Evaluation/','/Databases/Relational/','/Databases/Temporal/'],\n",
        "                  'databases') \n",
        "df1 = df1.replace(['/Encryption_and_Compression/Compression/','/Encryption_and_Compression/Encryption/','/Encryption_and_Compression/Security/'],\n",
        "                  'encryption and compression') \n",
        "df1 = df1.replace(['/Hardware_and_Architecture/Distributed_Architectures/','/Hardware_and_Architecture/High_Performance_Computing/','/Hardware_and_Architecture/Input_Output_and_Storage/','/Hardware_and_Architecture/Logic_Design/','/Hardware_and_Architecture/Memory_Structures/',\n",
        "                   '/Hardware_and_Architecture/Microprogramming/','/Hardware_and_Architecture/VLSI/'], \n",
        "                  'hardware and architecture') \n",
        "df1 = df1.replace(['/Human_Computer_Interaction/Cooperative/','/Human_Computer_Interaction/Graphics_and_Virtual_Reality/','/Human_Computer_Interaction/Interface_Design/',\n",
        "                   '/Human_Computer_Interaction/Multimedia/','/Human_Computer_Interaction/Wearable_Computers/'], \n",
        "                  'human computer interaction') \n",
        "df1 = df1.replace(['/Networking/Internet/','/Networking/Protocols/','/Networking/Routing/','/Networking/Wireless/'], \n",
        "                  'networking') \n",
        "df1 = df1.replace(['/Operating_Systems/Distributed/','/Operating_Systems/Fault_Tolerance/','/Operating_Systems/Memory_Management/','/Operating_Systems/Realtime/'],\n",
        "                  'operating systems') \n",
        "df1 = df1.replace(['/Programming/Compiler_Design/','/Programming/Debugging/','/Programming/Functional/','/Programming/Garbage_Collection/','/Programming/Java/','/Programming/Logic/','/Programming/Object_Oriented/','/Programming/Semantics/',\n",
        "                   '/Programming/Software_Development/'], \n",
        "                  'programming') "
      ],
      "metadata": {
        "id": "ql45y57Q8Der"
      },
      "execution_count": 26,
      "outputs": []
    },
    {
      "cell_type": "code",
      "source": [
        "len(set(df1['/Information_Retrieval/Retrieval/'].values))"
      ],
      "metadata": {
        "colab": {
          "base_uri": "https://localhost:8080/"
        },
        "id": "w5BN7kHb9nc1",
        "outputId": "69c5a23a-a962-4278-90e4-d0024811602e"
      },
      "execution_count": 27,
      "outputs": [
        {
          "output_type": "execute_result",
          "data": {
            "text/plain": [
              "10"
            ]
          },
          "metadata": {},
          "execution_count": 27
        }
      ]
    },
    {
      "cell_type": "code",
      "source": [
        "dict_list1 = ['agents','data', 'mining','expert', 'systems','games', 'search','knowledge', 'representation','machine','machine', 'learning', 'genetic', 'algorithms','machine', 'learning', 'neural', 'networks','machine', \n",
        "                                                     'learning', 'probabilistic', 'methods','machine', 'learning', 'reinforcement', 'learning',\n",
        "                                                    'machine', 'learning', 'rule', 'learning','machine', 'learning', 'theory','nlp','planning','robotics','speech','theorem', 'proving','vision', 'and', 'pattern', 'recognition']\n",
        "dict_list2 = ['computational', 'complexity','computational', 'geometry','formal', 'languages','hashing','logic','parallel','quantum', 'computing','randomized','sorting']\n",
        "dict_list3 = ['concurrency','deductive','object', 'oriented','performance','query', 'evaluation','relational','temporal']\n",
        "dict_list4 = ['compression','encryption','security']\n",
        "dict_list5 = ['distributed', 'architectures','high', 'performance', 'computing','input', 'output', 'and', 'storage','logic', 'design','memory', 'structures','vlsi']\n",
        "dict_list6 = ['cooperative','graphics', 'and', 'virtual', 'reality','interface', 'design','multimedia','wearable', 'computers']\n",
        "dict_list7 = ['digital', 'library','extraction','filtering','retrieval']\n",
        "dict_list8 = ['internet','protocols','routing','wireless']\n",
        "dict_list9 = ['distributed','fault', 'tolerance','memory', 'management','realtime','programming', 'compiler', 'design']\n",
        "dict_list10 = ['compiler', 'design','debugging','functional','garbage', 'collection','java','logic','object', 'oriented','software', 'development']"
      ],
      "metadata": {
        "id": "LU2SHZjAEz59"
      },
      "execution_count": 28,
      "outputs": []
    },
    {
      "cell_type": "code",
      "source": [
        "dict_list1 = list(set(dict_list1))\n",
        "dict_list2 = list(set(dict_list2))\n",
        "dict_list3 = list(set(dict_list3))\n",
        "dict_list4 = list(set(dict_list4))\n",
        "dict_list5 = list(set(dict_list5))\n",
        "dict_list6 = list(set(dict_list6))\n",
        "dict_list7 = list(set(dict_list7))\n",
        "dict_list8 = list(set(dict_list8))\n",
        "dict_list9 = list(set(dict_list9))\n",
        "dict_list10 = list(set(dict_list10))"
      ],
      "metadata": {
        "id": "aNRhamvmCNJM"
      },
      "execution_count": 29,
      "outputs": []
    },
    {
      "cell_type": "code",
      "source": [
        "dictionary_of_classes = {'Artificial Intelligence': dict_list1,\n",
        "                         'data structures algorithms and theory': dict_list2,\n",
        "                         'databases': dict_list3,\n",
        "                         'encryption and compression': dict_list4,\n",
        "                         'hardware and architecture': dict_list5,\n",
        "                         'human computer interaction': dict_list6,\n",
        "                         'information retrieval':dict_list7,\n",
        "                         'networking': dict_list8,\n",
        "                         'operating systems': dict_list9,\n",
        "                         'programming': dict_list10\n",
        "                         }"
      ],
      "metadata": {
        "id": "aaklsNPDY5vC"
      },
      "execution_count": 30,
      "outputs": []
    },
    {
      "cell_type": "code",
      "source": [
        "# X_train, X_test, y_train, y_test = train_test_split(df['Abstract_clean'], df['Title_clean'], test_size=0.2, random_state=25)\n",
        "# X_train = np.array([np.array(val) for val in X_train])\n",
        "# y_train = np.array([np.array(val) for val in y_train])\n",
        "# X_test = np.array([np.array(val) for val in X_test])\n",
        "# y_test = np.array([np.array(val) for val in y_test])"
      ],
      "metadata": {
        "id": "b1GasH3FywnV"
      },
      "execution_count": 31,
      "outputs": []
    },
    {
      "cell_type": "markdown",
      "source": [
        "**Data set is prepared** </br>\n",
        "**Going to BERT setup and futher experiment**"
      ],
      "metadata": {
        "id": "fziANHxwgFP1"
      }
    },
    {
      "cell_type": "markdown",
      "source": [
        "## Creating target clusters"
      ],
      "metadata": {
        "id": "EeTrtssvXi61"
      }
    },
    {
      "cell_type": "code",
      "source": [
        "nlp = gensim_api.load(\"glove-wiki-gigaword-300\")"
      ],
      "metadata": {
        "id": "W_UPMx5iX7WW",
        "colab": {
          "base_uri": "https://localhost:8080/"
        },
        "outputId": "71f45894-a37f-40e0-bb9f-b77302cbb47c"
      },
      "execution_count": 32,
      "outputs": [
        {
          "output_type": "stream",
          "name": "stdout",
          "text": [
            "[==================================================] 100.0% 376.1/376.1MB downloaded\n"
          ]
        }
      ]
    },
    {
      "cell_type": "code",
      "source": [
        "for key in dictionary_of_classes:\n",
        "  dictionary_of_classes[key] = get_similar_words(dictionary_of_classes[key], top=10, nlp=nlp)"
      ],
      "metadata": {
        "id": "_w580udWYW0R"
      },
      "execution_count": 33,
      "outputs": []
    },
    {
      "cell_type": "code",
      "source": [
        "# 5 closest words\n",
        "print('Top words per label:')\n",
        "for k,v in dictionary_of_classes.items():\n",
        "    print(\"{0:15}..... {1}\".format(k, v[0:5], len(v)))"
      ],
      "metadata": {
        "id": "1F0JAZ44YXbK",
        "colab": {
          "base_uri": "https://localhost:8080/"
        },
        "outputId": "d32926db-4cf0-4850-8607-a690719e923a"
      },
      "execution_count": 34,
      "outputs": [
        {
          "output_type": "stream",
          "name": "stdout",
          "text": [
            "Top words per label:\n",
            "Artificial Intelligence..... ['machine', 'method', 'particular', 'neural', 'learning']\n",
            "data structures algorithms and theory..... ['languages', 'geometry', 'computing', 'randomized', 'algorithm']\n",
            "databases      ..... ['deductive', 'algorithms', 'analysis', 'performance', 'function']\n",
            "encryption and compression..... ['authentication', 'security', 'encrypted', 'software', 'encryption']\n",
            "hardware and architecture..... ['applications', 'computing', 'hardware', 'systems', 'vlsi']\n",
            "human computer interaction..... ['computing', 'video', 'hardware', 'user', 'technology']\n",
            "information retrieval..... ['database', 'archive', 'archiving', 'extraction', 'filtering']\n",
            "networking     ..... ['voip', 'users', 'protocol', 'messaging', 'networks']\n",
            "operating systems..... ['application', 'management', 'computing', 'programming', 'realtime']\n",
            "programming    ..... ['application', 'development', 'hardware', 'tool', 'collection']\n"
          ]
        }
      ]
    },
    {
      "cell_type": "markdown",
      "source": [
        "### Vizualization"
      ],
      "metadata": {
        "id": "dWkreXBTMFlO"
      }
    },
    {
      "cell_type": "code",
      "source": [
        "## word embedding\n",
        "tot_words = [word for v in dictionary_of_classes.values() for word in v]\n",
        "X = nlp[tot_words]\n",
        "        \n",
        "## pca\n",
        "pca = manifold.TSNE(perplexity=40, n_components=2, init='pca')\n",
        "X = pca.fit_transform(X)\n",
        "\n",
        "df_GloVe = pd.DataFrame()\n",
        "for k,v in dictionary_of_classes.items():\n",
        "    size = len(df_GloVe) + len(v)\n",
        "    dtf_group = pd.DataFrame(X[len(df_GloVe):size], columns=[\"x\",\"y\"], index=v)\n",
        "    dtf_group[\"cluster\"] = k\n",
        "    df_GloVe = df_GloVe.append(dtf_group)\n",
        "        \n",
        "# plot\n",
        "fig, ax = plt.subplots(figsize=(25,20))\n",
        "sns.scatterplot(data=df_GloVe, x=\"x\", y=\"y\", hue=\"cluster\", ax=ax)\n",
        "ax.legend()\n",
        "ax.set(xlabel=None, ylabel=None, xticks=[], xticklabels=[], yticks=[], yticklabels=[])\n",
        "for i in range(len(df_GloVe)):\n",
        "    ax.annotate(df_GloVe.index[i], xy=(df_GloVe[\"x\"].iloc[i], df_GloVe[\"y\"].iloc[i]), xytext=(5,2), textcoords='offset points', ha='right', va='bottom')"
      ],
      "metadata": {
        "colab": {
          "base_uri": "https://localhost:8080/",
          "height": 1000
        },
        "id": "SqS0SgmYYXQ0",
        "outputId": "057a95f0-c4ac-46eb-9cf7-41abc53515e7"
      },
      "execution_count": 35,
      "outputs": [
        {
          "output_type": "stream",
          "name": "stderr",
          "text": [
            "/usr/local/lib/python3.7/dist-packages/sklearn/manifold/_t_sne.py:793: FutureWarning: The default learning rate in TSNE will change from 200.0 to 'auto' in 1.2.\n",
            "  FutureWarning,\n",
            "/usr/local/lib/python3.7/dist-packages/sklearn/manifold/_t_sne.py:986: FutureWarning: The PCA initialization in TSNE will change to have the standard deviation of PC1 equal to 1e-4 in 1.2. This will ensure better convergence.\n",
            "  FutureWarning,\n"
          ]
        },
        {
          "output_type": "display_data",
          "data": {
            "text/plain": [
              "<Figure size 1800x1440 with 1 Axes>"
            ],
            "image/png": "[encoded data removed]"
          },
          "metadata": {}
        }
      ]
    },
    {
      "cell_type": "markdown",
      "source": [
        "# Experiment"
      ],
      "metadata": {
        "id": "s_x-FRIBoiH-"
      }
    },
    {
      "cell_type": "code",
      "source": [
        "# tokenizer using \"usual\" BERT (bert-base-uncased)\n",
        "tokenizer = transformers.BertTokenizer.from_pretrained('bert-base-uncased', do_lower_case=True)\n",
        "#Bert itself loaded to nlp variable\n",
        "nlp = transformers.TFBertModel.from_pretrained('bert-base-uncased')"
      ],
      "metadata": {
        "id": "1G6sLZ83ngWb",
        "colab": {
          "base_uri": "https://localhost:8080/",
          "height": 232,
          "referenced_widgets": [
            "dbe515693c9c4e6593d7c08fd53b8ce0",
            "d11db205d5a84da8a6edeff28f303a8d",
            "0640dbf3a0f943e3a7940f84417593a4",
            "a7e259974b6f4615aa1458301577c79c",
            "114dbed0b2dc4dc99acbe896a6543b29",
            "bc138da046564927821df0b031bd5978",
            "693dd829b12542ff9a9a547250ddfaa5",
            "317e2a0be4174906912372e4776196e6",
            "878ae1ba1fca46c08c96633429311c81",
            "a48712ef559c4cb89725bffc6016774a",
            "ae381ccc5d2b40d1b7419bf91405a00c",
            "8ed098c5bd7546aaaf4453f3ee133611",
            "643e93f82f474ce6a30ef638d92c5c08",
            "911ee2bc5d5f49b883cfac37d6e15398",
            "3cc835031bcd4421897ab421e37a2044",
            "c4e951112a1c4041924a9da08d7abf31",
            "55b500fdd522490e97decd666a29e9d2",
            "a291200091914dcb9506475f0e06f81d",
            "3fa905239ac046a988a89222c487fdcf",
            "0a28ccb4fae94781b0912c099ba739d7",
            "77da0bc63fc3414b8b67970839b10978",
            "d6fa29ac9feb4899b8200c74bc36a2b2",
            "07a73f42d59c4804a3cfc45b2de7389b",
            "db099ce30773425a969a3edaafc80de5",
            "017019869fab41b1bff26ae8e6e2afc9",
            "79488137e66f45d8a64833fc50f3f84c",
            "677adfb3948f45458c3ef28d633ee207",
            "eb7a41c46b1e4694aca38aac97397cf8",
            "5bfec091aa554d0f84d03e4a4c47c09f",
            "655e8f67f5a94390b699bdd6decf7805",
            "7b1b322eb6ff4bf89e3f2bcfa310d125",
            "dfdbf3a6168b41eb85d85a550ea32694",
            "5bf7056132fa42d0ba05a3c1eecbee47",
            "3c90dd9b1ba04d5c971be53d2496f527",
            "247626ccb3ae4251be2770963a5d7d76",
            "bf91692ba90144f180b23873194d9d6a",
            "a2b0ec2d50df42379ed0b83d67cb3343",
            "a91316a4b3f74c1ba160ea0bf21132ea",
            "901c92feb21d4841b334c686c7eca2b1",
            "536b2ca6cc494adbba4226402c1d2bf8",
            "33ccbe4ea90d4ba39ef63496cba289e9",
            "a56bf63a3931444b81ba3a1b0cd0a9ca",
            "2f52e9c47d8145f28e4be07b6b0d4695",
            "650d335b891341d9b45ddef2857c5351"
          ]
        },
        "outputId": "9df52228-2204-4e0b-d8be-0ba76976ee0e"
      },
      "execution_count": 36,
      "outputs": [
        {
          "output_type": "display_data",
          "data": {
            "text/plain": [
              "Downloading:   0%|          | 0.00/226k [00:00<?, ?B/s]"
            ],
            "application/vnd.jupyter.widget-view+json": {
              "version_major": 2,
              "version_minor": 0,
              "model_id": "dbe515693c9c4e6593d7c08fd53b8ce0"
            }
          },
          "metadata": {}
        },
        {
          "output_type": "display_data",
          "data": {
            "text/plain": [
              "Downloading:   0%|          | 0.00/28.0 [00:00<?, ?B/s]"
            ],
            "application/vnd.jupyter.widget-view+json": {
              "version_major": 2,
              "version_minor": 0,
              "model_id": "8ed098c5bd7546aaaf4453f3ee133611"
            }
          },
          "metadata": {}
        },
        {
          "output_type": "display_data",
          "data": {
            "text/plain": [
              "Downloading:   0%|          | 0.00/570 [00:00<?, ?B/s]"
            ],
            "application/vnd.jupyter.widget-view+json": {
              "version_major": 2,
              "version_minor": 0,
              "model_id": "07a73f42d59c4804a3cfc45b2de7389b"
            }
          },
          "metadata": {}
        },
        {
          "output_type": "display_data",
          "data": {
            "text/plain": [
              "Downloading:   0%|          | 0.00/511M [00:00<?, ?B/s]"
            ],
            "application/vnd.jupyter.widget-view+json": {
              "version_major": 2,
              "version_minor": 0,
              "model_id": "3c90dd9b1ba04d5c971be53d2496f527"
            }
          },
          "metadata": {}
        },
        {
          "output_type": "stream",
          "name": "stderr",
          "text": [
            "Some layers from the model checkpoint at bert-base-uncased were not used when initializing TFBertModel: ['mlm___cls', 'nsp___cls']\n",
            "- This IS expected if you are initializing TFBertModel from the checkpoint of a model trained on another task or with another architecture (e.g. initializing a BertForSequenceClassification model from a BertForPreTraining model).\n",
            "- This IS NOT expected if you are initializing TFBertModel from the checkpoint of a model that you expect to be exactly identical (initializing a BertForSequenceClassification model from a BertForSequenceClassification model).\n",
            "All the layers of TFBertModel were initialized from the model checkpoint at bert-base-uncased.\n",
            "If your task is similar to the task the model of the checkpoint was trained on, you can already use TFBertModel for predictions without further training.\n"
          ]
        }
      ]
    },
    {
      "cell_type": "code",
      "source": [
        "def bert_embedding(txt, tokenizer, nlp):\n",
        "    # sentence to (integers)\n",
        "    tmp_encoder = tokenizer.encode(txt)\n",
        "    # to numpy array with shape (1, <EOS> + n_words + <CLS>)\n",
        "    tmp_encoder = np.array(tmp_encoder)[None,:]\n",
        "    embedding = nlp(tmp_encoder)\n",
        "    # for 1st member of the tuple: remove 1st dimension (i.e. result is going to be (n_words, 712))\n",
        "    # delete CLS & EOS\n",
        "    embedding1 = np.array(embedding[0][0][1:-1])\n",
        "    return embedding1"
      ],
      "metadata": {
        "id": "1yCQ41YWor1L"
      },
      "execution_count": 37,
      "outputs": []
    },
    {
      "cell_type": "code",
      "source": [
        "#list of abstracts vectors\n",
        "lst_mean_vecs = [bert_embedding(txt, tokenizer, nlp).mean(0) for txt in tqdm(df['Abstract_clean'])]"
      ],
      "metadata": {
        "colab": {
          "base_uri": "https://localhost:8080/"
        },
        "id": "o8RY_HtWo8Ei",
        "outputId": "a363c2df-1c79-4a60-dc16-dfafe4d5cf03"
      },
      "execution_count": 38,
      "outputs": [
        {
          "output_type": "stream",
          "name": "stderr",
          "text": [
            "  0%|          | 37/52839 [00:06<2:29:17,  5.89it/s]/usr/local/lib/python3.7/dist-packages/ipykernel_launcher.py:2: RuntimeWarning: Mean of empty slice.\n",
            "  \n",
            "/usr/local/lib/python3.7/dist-packages/numpy/core/_methods.py:182: RuntimeWarning: invalid value encountered in true_divide\n",
            "  ret, rcount, out=ret, casting='unsafe', subok=False)\n",
            "  7%|▋         | 3513/52839 [09:40<2:13:41,  6.15it/s]Token indices sequence length is longer than the specified maximum sequence length for this model (526 > 512). Running this sequence through the model will result in indexing errors\n",
            "100%|██████████| 52839/52839 [2:23:58<00:00,  6.12it/s]\n"
          ]
        }
      ]
    },
    {
      "cell_type": "code",
      "source": [
        "# lst_mean_vecs = pd.read_csv('/content/df_lst_mean_vecs.csv')\n",
        "# lst_mean_vecs = lst_mean_vecs.drop(['Unnamed: 0'], axis=1)\n",
        "# lst_mean_vecs = lst_mean_vecs.dropna()"
      ],
      "metadata": {
        "id": "vboxbugqMRN8"
      },
      "execution_count": 172,
      "outputs": []
    },
    {
      "cell_type": "code",
      "source": [
        "# lst_mean_vecs = lst_mean_vecs.values.tolist()"
      ],
      "metadata": {
        "id": "_KmkLGFwMfqT"
      },
      "execution_count": 173,
      "outputs": []
    },
    {
      "cell_type": "code",
      "source": [
        "# df_lst_mean_vecs = pd.DataFrame(lst_mean_vecs)\n",
        "# df_lst_mean_vecs.to_csv('/content/df_lst_mean_vecs.csv')"
      ],
      "metadata": {
        "id": "QPr_I4JMR6gg"
      },
      "execution_count": 174,
      "outputs": []
    },
    {
      "cell_type": "code",
      "source": [
        "# feature matrix (n_articles x 768)\n",
        "X = np.array(lst_mean_vecs)\n",
        "X.shape"
      ],
      "metadata": {
        "id": "KtMqEHqCo_-0",
        "colab": {
          "base_uri": "https://localhost:8080/"
        },
        "outputId": "ac59df18-f7c0-4001-b0a5-637ac303c887"
      },
      "execution_count": 39,
      "outputs": [
        {
          "output_type": "execute_result",
          "data": {
            "text/plain": [
              "(52839, 768)"
            ]
          },
          "metadata": {},
          "execution_count": 39
        }
      ]
    },
    {
      "cell_type": "code",
      "source": [
        "X_new = np.array(lst_mean_vecs[0:30786])"
      ],
      "metadata": {
        "id": "tO4INdE85Qk2"
      },
      "execution_count": 62,
      "outputs": []
    },
    {
      "cell_type": "code",
      "source": [
        "X_new.shape"
      ],
      "metadata": {
        "colab": {
          "base_uri": "https://localhost:8080/"
        },
        "id": "neAoX0T25Zu6",
        "outputId": "d583f950-e3c0-4d1c-d684-8c55b45b2664"
      },
      "execution_count": 63,
      "outputs": [
        {
          "output_type": "execute_result",
          "data": {
            "text/plain": [
              "(30786, 768)"
            ]
          },
          "metadata": {},
          "execution_count": 63
        }
      ]
    },
    {
      "cell_type": "code",
      "source": [
        "X = X_new"
      ],
      "metadata": {
        "id": "aVyetQlr5d1u"
      },
      "execution_count": 64,
      "outputs": []
    },
    {
      "cell_type": "code",
      "source": [
        "dic_y = {k:bert_embedding(v, tokenizer, nlp).mean(0) for k,v in tqdm(dictionary_of_classes.items())}"
      ],
      "metadata": {
        "colab": {
          "base_uri": "https://localhost:8080/"
        },
        "id": "FZ_6LNSKwd6c",
        "outputId": "c4fca34d-5dbf-4085-93e7-86ee1fcfc2c3"
      },
      "execution_count": 65,
      "outputs": [
        {
          "output_type": "stream",
          "name": "stderr",
          "text": [
            "100%|██████████| 10/10 [00:01<00:00,  5.93it/s]\n"
          ]
        }
      ]
    },
    {
      "cell_type": "code",
      "source": [
        "def fix_NAN_inf_values(x):\n",
        "    '''Replace NaN with zero and infinity with large finite numbers'''\n",
        "    if len(np.where(np.isnan(X))[0])>0 or len(np.where(np.isnan(X))[1])>0:\n",
        "        return np.nan_to_num(X)"
      ],
      "metadata": {
        "id": "6lu0WzjUxiB4"
      },
      "execution_count": 66,
      "outputs": []
    },
    {
      "cell_type": "code",
      "source": [
        "#I use here cosine_similarity\n",
        "# (n_articles x n_labels(i.e. 10)) Row are containig abstract and similarity score.\n",
        "similarities = np.array([metrics.pairwise.cosine_similarity(fix_NAN_inf_values(X), y.reshape(1,-1)).T.tolist()[0] for y in dic_y.values()]).T\n",
        "print(similarities.shape)\n",
        "\n",
        "# adjusting & rescaling\n",
        "labels = list(dic_y.keys())\n",
        "for i in range(len(similarities)):\n",
        "    # if no similarity found\n",
        "    if sum(similarities[i]) == 0:\n",
        "        similarities[i] = [0]*len(labels)\n",
        "        similarities[i][np.random.choice(range(len(labels)))] = 1\n",
        "    # rescaling\n",
        "    similarities[i] = similarities[i] / sum(similarities[i])\n",
        "\n",
        "# label goes to the highest similarity score\n",
        "predicted_prob = similarities\n",
        "predicted = [labels[np.argmax(pred)] for pred in predicted_prob]"
      ],
      "metadata": {
        "colab": {
          "base_uri": "https://localhost:8080/"
        },
        "id": "I3dI-6-BN6HV",
        "outputId": "5aa99e56-7e53-48c9-9ddf-899361520903"
      },
      "execution_count": 67,
      "outputs": [
        {
          "output_type": "stream",
          "name": "stdout",
          "text": [
            "(30786, 10)\n"
          ]
        }
      ]
    },
    {
      "cell_type": "code",
      "source": [
        "y_test.shape"
      ],
      "metadata": {
        "colab": {
          "base_uri": "https://localhost:8080/"
        },
        "id": "HQtmSnRVyhic",
        "outputId": "93b99eec-b266-4eac-f6b6-591b8db55070"
      },
      "execution_count": 68,
      "outputs": [
        {
          "output_type": "execute_result",
          "data": {
            "text/plain": [
              "(30786,)"
            ]
          },
          "metadata": {},
          "execution_count": 68
        }
      ]
    },
    {
      "cell_type": "code",
      "source": [
        "predicted_prob.shape"
      ],
      "metadata": {
        "colab": {
          "base_uri": "https://localhost:8080/"
        },
        "id": "_4SHzEUb7Lum",
        "outputId": "0de3146f-179c-4eb4-ea96-2bcd52befed7"
      },
      "execution_count": 69,
      "outputs": [
        {
          "output_type": "execute_result",
          "data": {
            "text/plain": [
              "(30786, 10)"
            ]
          },
          "metadata": {},
          "execution_count": 69
        }
      ]
    },
    {
      "cell_type": "code",
      "source": [
        "y_test = df1['/Information_Retrieval/Retrieval/'].values\n",
        "classes = np.unique(y_test)\n",
        "y_test_array = pd.get_dummies(y_test, drop_first=False).values\n",
        "\n",
        "# Accuracy, Precision, Recall\n",
        "accuracy = metrics.accuracy_score(y_test, predicted)\n",
        "auc = metrics.roc_auc_score(y_test, predicted_prob, multi_class=\"ovr\")\n",
        "print(\"Accuracy:\",  round(accuracy,2))\n",
        "print(\"Auc:\", round(auc,2))\n",
        "print(\"Detail:\")\n",
        "print(metrics.classification_report(y_test, predicted))\n",
        "    \n",
        "# Plot confusion matrix\n",
        "cm = metrics.confusion_matrix(y_test, predicted)\n",
        "\n",
        "fig, ax = plt.subplots(figsize=(40,10))\n",
        "sns.heatmap(cm, annot=True, fmt='d', ax=ax, cmap=plt.cm.Blues, cbar=False)\n",
        "ax.set(xlabel=\"Pred\", ylabel=\"True\", xticklabels=classes, yticklabels=classes, title=\"Confusion matrix\")\n",
        "plt.yticks(rotation=0)\n",
        "\n",
        "fig, ax = plt.subplots(nrows=1, ncols=2,figsize=(20,10))\n",
        "# Plot roc\n",
        "for i in range(len(classes)):\n",
        "    fpr, tpr, thresholds = metrics.roc_curve(y_test_array[:,i], predicted_prob[:,i])\n",
        "    ax[0].plot(fpr, tpr, lw=3,  label='{0} (area={1:0.2f})'.format(classes[i], metrics.auc(fpr, tpr)))\n",
        "ax[0].plot([0,1], [0,1], color='navy', lw=3, linestyle='--')\n",
        "ax[0].set(xlim=[-0.05,1.0], ylim=[0.0,1.05], \n",
        "          xlabel='False Positive Rate', \n",
        "          ylabel=\"True Positive Rate (Recall)\", \n",
        "          title=\"Receiver operating characteristic\")\n",
        "ax[0].legend(loc=\"lower right\")\n",
        "ax[0].grid(True)\n",
        "    \n",
        "# Plot precision-recall curve\n",
        "for i in range(len(classes)):\n",
        "    precision, recall, thresholds = metrics.precision_recall_curve(y_test_array[:,i], predicted_prob[:,i])\n",
        "    ax[1].plot(recall, precision, lw=3, label='{0} (area={1:0.2f})'.format(classes[i], metrics.auc(recall, precision)))\n",
        "ax[1].set(xlim=[0.0,1.05], ylim=[0.0,1.05], xlabel='Recall', ylabel=\"Precision\", title=\"Precision-Recall curve\")\n",
        "ax[1].legend(loc=\"best\")\n",
        "ax[1].grid(True)\n",
        "plt.show()"
      ],
      "metadata": {
        "colab": {
          "base_uri": "https://localhost:8080/",
          "height": 1000
        },
        "id": "Ntdbl9X6wy36",
        "outputId": "e99eeeab-e197-4c8e-df89-bb54dcfe3023"
      },
      "execution_count": 70,
      "outputs": [
        {
          "output_type": "stream",
          "name": "stdout",
          "text": [
            "Accuracy: 0.26\n",
            "Auc: 0.5\n",
            "Detail:\n",
            "                                       precision    recall  f1-score   support\n",
            "\n",
            "              Artificial Intelligence       0.38      0.63      0.48     11754\n",
            "data structures algorithms and theory       0.08      0.00      0.00      3364\n",
            "                            databases       0.01      0.00      0.00      1356\n",
            "           encryption and compression       0.04      0.24      0.07      1306\n",
            "            hardware and architecture       0.04      0.06      0.05      1328\n",
            "           human computer interaction       0.12      0.01      0.01      1861\n",
            "                information retrieval       0.09      0.01      0.02       633\n",
            "                           networking       0.04      0.00      0.00      1771\n",
            "                    operating systems       0.09      0.02      0.04      2961\n",
            "                          programming       0.14      0.02      0.03      4452\n",
            "\n",
            "                             accuracy                           0.26     30786\n",
            "                            macro avg       0.10      0.10      0.07     30786\n",
            "                         weighted avg       0.20      0.26      0.20     30786\n",
            "\n"
          ]
        },
        {
          "output_type": "display_data",
          "data": {
            "text/plain": [
              "<Figure size 2880x720 with 1 Axes>"
            ],
            "image/png": "[encoded data removed]"
          },
          "metadata": {
            "needs_background": "light"
          }
        },
        {
          "output_type": "display_data",
          "data": {
            "text/plain": [
              "<Figure size 1440x720 with 2 Axes>"
            ],
            "image/png": "[encoded data removed]"
          },
          "metadata": {
            "needs_background": "light"
          }
        }
      ]
    },
    {
      "cell_type": "code",
      "source": [
        "## Вообщем классифицируется из рук вон плохо))) но работает и создает кластеры, наверно результат был мог бы быть лучше если бы я аккуратнее работал с датой и не выкидывал любые проблемные места, в целом"
      ],
      "metadata": {
        "id": "9BRNzNMFyJ7E"
      },
      "execution_count": 71,
      "outputs": []
    },
    {
      "cell_type": "code",
      "source": [
        ""
      ],
      "metadata": {
        "id": "4zLgAtXa6Ysi"
      },
      "execution_count": null,
      "outputs": []
    }
  ]
}